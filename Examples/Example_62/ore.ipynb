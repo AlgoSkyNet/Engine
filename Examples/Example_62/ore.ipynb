{
 "cells": [
  {
   "cell_type": "markdown",
   "metadata": {
    "extensions": {
     "jupyter_dashboards": {
      "version": 1,
      "views": {
       "grid_default": {
        "col": 0,
        "height": 4,
        "hidden": true,
        "row": 20,
        "width": 4
       },
       "report_default": {
        "hidden": false
       }
      }
     }
    },
    "tags": []
   },
   "source": [
    "\n",
    "# Sensitivities: Bump vs AAD "
   ]
  },
  {
   "cell_type": "markdown",
   "metadata": {
    "extensions": {
     "jupyter_dashboards": {
      "version": 1,
      "views": {
       "grid_default": {
        "col": 4,
        "height": 4,
        "hidden": true,
        "row": 26,
        "width": 4
       },
       "report_default": {
        "hidden": false
       }
      }
     }
    },
    "tags": []
   },
   "source": [
    "This dashboard demonstrates the accuracy and performance of AAD sensitivities for a range of complex products\n",
    "- European Option\n",
    "- Barrier Option\n",
    "- Accumulator\n",
    "- WorstOfBasketSwap\n",
    "- TaRF\n",
    "all represented as scripted trades.\n",
    "\n",
    "We are running ORE twice with a tiny difference in the pricinengine.xml file, \n",
    "- setting UseAD to false for the bump run and\n",
    "- setting UseAD to true for AAD."
   ]
  },
  {
   "cell_type": "markdown",
   "metadata": {
    "extensions": {
     "jupyter_dashboards": {
      "version": 1,
      "views": {
       "grid_default": {
        "col": 0,
        "height": 2,
        "hidden": false,
        "row": 0,
        "width": 12
       },
       "report_default": {
        "hidden": false
       }
      }
     }
    }
   },
   "source": [
    "## Run with bump & revalue"
   ]
  },
  {
   "cell_type": "code",
   "execution_count": null,
   "metadata": {
    "extensions": {
     "jupyter_dashboards": {
      "version": 1,
      "views": {
       "grid_default": {
        "hidden": true
       },
       "report_default": {
        "hidden": true
       }
      }
     }
    },
    "scrolled": true
   },
   "outputs": [],
   "source": [
    "from ORE import *\n",
    "import sys, time, math\n",
    "sys.path.append('..')\n",
    "import utilities"
   ]
  },
  {
   "cell_type": "code",
   "execution_count": null,
   "metadata": {},
   "outputs": [],
   "source": [
    "params_bump = Parameters()\n",
    "params_bump.fromFile(\"Input/ore_bump.xml\")\n",
    "ore_bump = OREApp(params_bump)\n",
    "ore_bump.run()\n",
    "utilities.checkErrorsAndRunTime(ore_bump)\n",
    "#utilities.writeList(ore_bump.getReportNames())"
   ]
  },
  {
   "cell_type": "markdown",
   "metadata": {
    "extensions": {
     "jupyter_dashboards": {
      "version": 1,
      "views": {
       "grid_default": {
        "col": 0,
        "height": 2,
        "hidden": false,
        "row": 7,
        "width": 12
       },
       "report_default": {
        "hidden": false
       }
      }
     }
    }
   },
   "source": [
    "## Run with AD"
   ]
  },
  {
   "cell_type": "code",
   "execution_count": null,
   "metadata": {
    "extensions": {
     "jupyter_dashboards": {
      "version": 1,
      "views": {
       "grid_default": {
        "col": 0,
        "height": 7,
        "hidden": false,
        "row": 9,
        "width": 12
       },
       "report_default": {
        "hidden": true
       }
      }
     }
    }
   },
   "outputs": [],
   "source": [
    "params_ad = Parameters()\n",
    "params_ad.fromFile(\"Input/ore_ad.xml\")\n",
    "ore_ad = OREApp(params_ad)\n",
    "ore_ad.run()\n",
    "utilities.checkErrorsAndRunTime(ore_ad)\n",
    "#utilities.writeList(ore_ad.getReportNames())"
   ]
  },
  {
   "cell_type": "markdown",
   "metadata": {
    "extensions": {
     "jupyter_dashboards": {
      "version": 1,
      "views": {
       "grid_default": {
        "col": 0,
        "height": 4,
        "hidden": true,
        "row": 12,
        "width": 12
       },
       "report_default": {
        "hidden": false
       }
      }
     }
    }
   },
   "source": [
    "## Pricing Stats"
   ]
  },
  {
   "cell_type": "code",
   "execution_count": null,
   "metadata": {
    "tags": []
   },
   "outputs": [],
   "source": [
    "pricingstats_bump = ore_bump.getReport(\"pricingstats\")\n",
    "pricingstats_ad = ore_ad.getReport(\"pricingstats\")\n",
    "#utilities.checkReportStructure(\"pricingstats\", pricingstats_bump)\n",
    "print(\"Bump & Reval Pricing Times (micro seconds):\")\n",
    "display(utilities.format_report(pricingstats_bump))\n",
    "print(\"AD Pricing Times:\")\n",
    "display(utilities.format_report(pricingstats_ad))"
   ]
  },
  {
   "cell_type": "markdown",
   "metadata": {
    "extensions": {
     "jupyter_dashboards": {
      "version": 1,
      "views": {
       "grid_default": {
        "col": 0,
        "height": 4,
        "hidden": true,
        "row": 31,
        "width": 4
       },
       "report_default": {
        "hidden": false
       }
      }
     }
    },
    "tags": []
   },
   "source": [
    "## NPV reports\n",
    "We expect identical results."
   ]
  },
  {
   "cell_type": "code",
   "execution_count": null,
   "metadata": {},
   "outputs": [],
   "source": [
    "npv_bump = ore_bump.getReport(\"npv\")\n",
    "npv_ad = ore_ad.getReport(\"npv\")\n",
    "print(\"Bump & Reval NPV Report:\")\n",
    "display(utilities.format_report(npv_bump))\n",
    "print(\"AD NPV Report:\")\n",
    "display(utilities.format_report(npv_ad))"
   ]
  },
  {
   "cell_type": "markdown",
   "metadata": {
    "extensions": {
     "jupyter_dashboards": {
      "version": 1,
      "views": {
       "grid_default": {
        "col": 0,
        "height": 4,
        "hidden": true,
        "row": 31,
        "width": 4
       },
       "report_default": {
        "hidden": false
       }
      }
     }
    },
    "tags": []
   },
   "source": [
    "### Sensitivity Reports"
   ]
  },
  {
   "cell_type": "code",
   "execution_count": null,
   "metadata": {
    "tags": []
   },
   "outputs": [],
   "source": [
    "sensi_bump = ore_bump.getReport(\"sensitivity\")\n",
    "sensi_ad = ore_ad.getReport(\"sensitivity\")\n",
    "print(\"Bump:\")\n",
    "display(utilities.format_report(sensi_bump))\n",
    "print(\"AD:\")\n",
    "display(utilities.format_report(sensi_ad))"
   ]
  },
  {
   "cell_type": "code",
   "execution_count": null,
   "metadata": {},
   "outputs": [],
   "source": [
    "trade_bump = sensi_bump.dataAsString(0)\n",
    "factor_bump = sensi_bump.dataAsString(2)\n",
    "currency_bump = sensi_bump.dataAsString(6)\n",
    "delta_bump = sensi_bump.dataAsReal(8) \n",
    "\n",
    "trade_ad = sensi_ad.dataAsString(0)\n",
    "factor_ad = sensi_ad.dataAsString(2)\n",
    "currency_ad = sensi_ad.dataAsString(6)\n",
    "delta_ad = sensi_ad.dataAsReal(8) \n",
    "\n",
    "print (\"%-25s %-45s %10s %10s %10s %10s\" % (\"Trade\", \"Factor\", \"Currency\", \"Delta Bump\", \"Delta AD\", \"Diff\"))\n",
    "for i in range(0, sensi_bump.rows()):\n",
    "    matched = False\n",
    "    for j in range(0, sensi_ad.rows()):\n",
    "        if (trade_bump[i] == trade_ad[j] and factor_bump[i] == factor_ad[j]):\n",
    "            diff = delta_bump[i] - delta_ad[j]\n",
    "            print(\"%-25s %-45s %10s %10.2f %10.2f %10.2f\" % (trade_bump[i], factor_bump[i], currency_bump[i], delta_bump[i], delta_ad[j], diff))\n",
    "            matched = True\n",
    "    if (matched == False):      \n",
    "        print(\"%-25s %-45s %10s %10.2f %10s\" % (trade_bump[i], factor_bump[i], currency_bump[i], delta_bump[i], \"----\"))\n",
    "\n",
    "for j in range(0, sensi_ad.rows()):\n",
    "    matched = False\n",
    "    for i in range(0, sensi_bump.rows()):\n",
    "        if (trade_bump[i] == trade_ad[j] and factor_bump[i] == factor_ad[j]):\n",
    "            matched = True\n",
    "    if (matched == False):      \n",
    "        print(\"%-25s %-45s %10s %10s %10.2f\" % (trade_ad[j], factor_ad[j], currency_ad[j], \"----\", delta_ad[j]))\n"
   ]
  },
  {
   "cell_type": "code",
   "execution_count": null,
   "metadata": {},
   "outputs": [],
   "source": []
  }
 ],
 "metadata": {
  "anaconda-cloud": {},
  "extensions": {
   "jupyter_dashboards": {
    "activeView": "report_default",
    "version": 1,
    "views": {
     "grid_default": {
      "cellMargin": 10,
      "defaultCellHeight": 20,
      "maxColumns": 12,
      "name": "grid",
      "type": "grid"
     },
     "report_default": {
      "name": "report",
      "type": "report"
     }
    }
   }
  },
  "kernelspec": {
   "display_name": "Python 3 (ipykernel)",
   "language": "python",
   "name": "python3"
  },
  "language_info": {
   "codemirror_mode": {
    "name": "ipython",
    "version": 3
   },
   "file_extension": ".py",
   "mimetype": "text/x-python",
   "name": "python",
   "nbconvert_exporter": "python",
   "pygments_lexer": "ipython3",
   "version": "3.9.6"
  },
  "widgets": {
   "state": {
    "706c717787fc48baacd29c35c5b92bba": {
     "views": [
      {
       "cell_index": 13
      }
     ]
    }
   },
   "version": "1.2.0"
  }
 },
 "nbformat": 4,
 "nbformat_minor": 4
}
