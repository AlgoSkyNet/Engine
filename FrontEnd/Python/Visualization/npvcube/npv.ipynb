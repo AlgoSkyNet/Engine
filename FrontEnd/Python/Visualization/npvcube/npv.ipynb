{
 "cells": [
  {
   "cell_type": "code",
   "execution_count": null,
   "metadata": {
    "collapsed": false
   },
   "outputs": [],
   "source": [
    "# Copyright (C) 2016 Quaternion Risk Management Ltd.\n",
    "# All rights reserved.\n",
    "\n",
    "import matplotlib\n",
    "import matplotlib.pyplot as plt\n",
    "import numpy as np\n",
    "import pandas as pd\n",
    "from matplotlib import cm\n",
    "from mpl_toolkits.mplot3d import Axes3D\n",
    "from scipy.stats.kde import gaussian_kde\n",
    "from npvlib import NpvCube\n",
    "%matplotlib notebook\n",
    "from ipywidgets import *\n",
    "from IPython.display import display\n",
    "from traitlets import link"
   ]
  },
  {
   "cell_type": "code",
   "execution_count": null,
   "metadata": {
    "collapsed": false
   },
   "outputs": [],
   "source": [
    "csv_file = 'cube.csv'\n",
    "npv = NpvCube(csv_file)\n",
    "    \n",
    "def on_PlotButton_clicked(b):\n",
    "    global fig\n",
    "    global ax\n",
    "    global fig2\n",
    "    global ax2\n",
    "    if NewPlot.value == 'Replot':\n",
    "        fig.clf()\n",
    "        fig2.clf()\n",
    "    else:\n",
    "        fig = plt.figure()\n",
    "        fig2 = plt.figure()\n",
    "    ax = fig.add_subplot(111, projection='3d')\n",
    "    ax2 = fig2.add_subplot(111)\n",
    "    trade = npv.trades[TradeDropdown.value]\n",
    "    fig.canvas.set_window_title(trade + ' Density')\n",
    "    fig2.canvas.set_window_title(trade + ' Exposure Statistics')\n",
    "    npv.plot_density(trade, ax, NpvRadio.value)\n",
    "    npv.plot_exposure_statistics(trade, ax2)\n",
    "    npv.plot_exposure_statistics(trade, ax2)\n",
    "    plt.show()"
   ]
  },
  {
   "cell_type": "code",
   "execution_count": null,
   "metadata": {
    "collapsed": false
   },
   "outputs": [],
   "source": [
    "TradeDropdown = Dropdown(\n",
    "    options=npv.tradedict,\n",
    "    value=0,\n",
    "    description='TradeID:',\n",
    ")\n",
    "PlotButton = Button(description='Plot')\n",
    "PlotButton.on_click(on_PlotButton_clicked)\n",
    "NewPlot = ToggleButtons(description='Mode:', options=['Replot', 'New plot'])\n",
    "NpvRadio = RadioButtons(description='Exposure:', options=['NPV', 'NPV+', 'NPV-'])\n",
    "display(TradeDropdown)\n",
    "display(NewPlot)\n",
    "display(NpvRadio)\n",
    "display(PlotButton)\n",
    "fig = plt.figure()\n",
    "fig2 = plt.figure()\n",
    "fig3 = plt.figure()"
   ]
  },
  {
   "cell_type": "code",
   "execution_count": null,
   "metadata": {
    "collapsed": false
   },
   "outputs": [],
   "source": [
    "def on_slider_changed(x):\n",
    "    global fig3\n",
    "    global ax3\n",
    "    ax3 = fig3.add_subplot(111)\n",
    "    plt.cla()\n",
    "    trade = npv.trades[TradeDropdown.value]\n",
    "    npv.plot_density_date(trade, ax3, npv.dates[x['new']])\n",
    "    plt.show()\n",
    "\n",
    "slider = IntSlider(min=0,max=len(npv.dates)-1,step=1,value=2)\n",
    "slider.observe(on_slider_changed, names='value')\n",
    "display(slider)"
   ]
  },
  {
   "cell_type": "code",
   "execution_count": null,
   "metadata": {
    "collapsed": true
   },
   "outputs": [],
   "source": []
  },
  {
   "cell_type": "code",
   "execution_count": null,
   "metadata": {
    "collapsed": true
   },
   "outputs": [],
   "source": []
  }
 ],
 "metadata": {
  "kernelspec": {
   "display_name": "Python 3",
   "language": "python",
   "name": "python3"
  },
  "language_info": {
   "codemirror_mode": {
    "name": "ipython",
    "version": 3
   },
   "file_extension": ".py",
   "mimetype": "text/x-python",
   "name": "python",
   "nbconvert_exporter": "python",
   "pygments_lexer": "ipython3",
   "version": "3.5.1"
  }
 },
 "nbformat": 4,
 "nbformat_minor": 0
}
