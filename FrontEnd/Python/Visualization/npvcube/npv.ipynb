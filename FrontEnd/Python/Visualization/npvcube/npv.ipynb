{
 "cells": [
  {
   "cell_type": "code",
   "execution_count": null,
   "metadata": {
    "collapsed": false
   },
   "outputs": [],
   "source": [
    "# Copyright (C) 2016 Quaternion Risk Management Ltd.\n",
    "# All rights reserved.\n",
    "\n",
    "import matplotlib\n",
    "import matplotlib.pyplot as plt\n",
    "import numpy as np\n",
    "import pandas as pd\n",
    "from matplotlib import cm\n",
    "from mpl_toolkits.mplot3d import Axes3D\n",
    "from scipy.stats.kde import gaussian_kde\n",
    "from npvlib import NpvCube\n",
    "%matplotlib notebook\n",
    "from ipywidgets import *\n",
    "from IPython.display import display\n",
    "from traitlets import link"
   ]
  },
  {
   "cell_type": "code",
   "execution_count": null,
   "metadata": {
    "collapsed": false
   },
   "outputs": [],
   "source": [
    "csv_file = 'cube.csv'\n",
    "npv = NpvCube(csv_file)\n",
    "    \n",
    "def on_PlotButton_clicked(b):\n",
    "    global fig;\n",
    "    global ax;\n",
    "    if NewPlot.value == 'Replot':\n",
    "        plt.cla()\n",
    "    else:\n",
    "        fig = plt.figure()\n",
    "        ax = fig.add_subplot(111, projection='3d')\n",
    "    trade = npv.trades[TradeDropdown.value]\n",
    "    fig.canvas.set_window_title(trade + ' Density')\n",
    "    npv.plot_density(trade, ax, NpvRadio.value)\n",
    "    plt.show()"
   ]
  },
  {
   "cell_type": "code",
   "execution_count": null,
   "metadata": {
    "collapsed": false
   },
   "outputs": [],
   "source": [
    "TradeDropdown = Dropdown(\n",
    "    options=npv.tradedict,\n",
    "    value=0,\n",
    "    description='TradeID:',\n",
    ")\n",
    "PlotButton = Button(description='Plot')\n",
    "PlotButton.on_click(on_PlotButton_clicked)\n",
    "NewPlot = ToggleButtons(description='Mode:', options=['Replot', 'New plot'])\n",
    "NpvRadio = RadioButtons(description='Exposure:', options=['NPV', 'NPV+', 'NPV-'])\n",
    "display(TradeDropdown)\n",
    "display(NewPlot)\n",
    "display(NpvRadio)\n",
    "display(PlotButton)\n",
    "fig = plt.figure()\n",
    "ax = fig.add_subplot(111, projection='3d')"
   ]
  },
  {
   "cell_type": "code",
   "execution_count": null,
   "metadata": {
    "collapsed": true
   },
   "outputs": [],
   "source": []
  }
 ],
 "metadata": {
  "kernelspec": {
   "display_name": "Python 2",
   "language": "python",
   "name": "python2"
  },
  "language_info": {
   "codemirror_mode": {
    "name": "ipython",
    "version": 2
   },
   "file_extension": ".py",
   "mimetype": "text/x-python",
   "name": "python",
   "nbconvert_exporter": "python",
   "pygments_lexer": "ipython2",
   "version": "2.7.11"
  }
 },
 "nbformat": 4,
 "nbformat_minor": 0
}
