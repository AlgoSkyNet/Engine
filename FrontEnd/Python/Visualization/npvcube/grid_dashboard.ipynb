{
 "cells": [
  {
   "cell_type": "markdown",
   "metadata": {
    "extensions": {
     "jupyter_dashboards": {
      "version": 1,
      "views": {
       "grid_default": {
        "col": 0,
        "height": 4,
        "hidden": true,
        "row": 20,
        "width": 4
       },
       "report_default": {}
      }
     }
    }
   },
   "source": [
    "# ORE Jupyter Dashboard"
   ]
  },
  {
   "cell_type": "markdown",
   "metadata": {
    "extensions": {
     "jupyter_dashboards": {
      "version": 1,
      "views": {
       "grid_default": {
        "col": 4,
        "height": 4,
        "hidden": true,
        "row": 26,
        "width": 4
       },
       "report_default": {}
      }
     }
    }
   },
   "source": [
    "This dashboard assumes a standard installation of Anaconda Python 3, see:\n",
    "https://www.continuum.io/downloads\n",
    "\n",
    "Some plots require more dependencies, see below."
   ]
  },
  {
   "cell_type": "markdown",
   "metadata": {
    "extensions": {
     "jupyter_dashboards": {
      "version": 1,
      "views": {
       "grid_default": {
        "col": 0,
        "height": 2,
        "hidden": false,
        "row": 0,
        "width": 12
       },
       "report_default": {}
      }
     }
    }
   },
   "source": [
    "## Launch ORE"
   ]
  },
  {
   "cell_type": "markdown",
   "metadata": {
    "extensions": {
     "jupyter_dashboards": {
      "version": 1,
      "views": {
       "grid_default": {
        "col": 0,
        "height": 4,
        "hidden": true,
        "row": 12,
        "width": 12
       },
       "report_default": {}
      }
     }
    }
   },
   "source": [
    "This launcher allows you to kick off a job in ORE. You have to supply this cell with the location of your `ore` executable and the `xml` file that configures the job you want to run. You can do this either by specifying the default paths below in the code or by pasting them in the text fields after you run the cell below. Click on the `Launch` button to start the job. Depending on how complex this calculation is, it might take some time until it ran through. If you prefer do do this in the console, you can alternatively run it there and just specify the output file later."
   ]
  },
  {
   "cell_type": "code",
   "execution_count": null,
   "metadata": {
    "collapsed": true,
    "extensions": {
     "jupyter_dashboards": {
      "version": 1,
      "views": {
       "grid_default": {
        "hidden": true
       },
       "report_default": {}
      }
     }
    }
   },
   "outputs": [],
   "source": [
    "# default paths (either change here or use the interface below)\n",
    "ore_exe_path = 'D:\\\\cppdev\\\\openxva\\\\App\\\\bin\\\\x64\\\\Release\\\\ore.exe'\n",
    "ore_xml = 'D:\\\\cppdev\\\\openxva\\\\Examples\\\\Example_3\\\\Input\\\\ore.xml'"
   ]
  },
  {
   "cell_type": "code",
   "execution_count": null,
   "metadata": {
    "collapsed": false,
    "extensions": {
     "jupyter_dashboards": {
      "version": 1,
      "views": {
       "grid_default": {
        "col": 0,
        "height": 5,
        "hidden": false,
        "row": 2,
        "width": 12
       },
       "report_default": {}
      }
     }
    }
   },
   "outputs": [],
   "source": [
    "from ipywidgets import Text, Button\n",
    "from IPython.display import display\n",
    "import subprocess\n",
    "import os\n",
    "\n",
    "ore_path_selector = Text(description='ORE Path:', value=ore_exe_path, width=200)\n",
    "xml_selector = Text(description='XML File:', value=ore_xml, width=200)\n",
    "launch_button = Button(description='Launch')\n",
    "\n",
    "def launch_ore(b):\n",
    "    cwd = os.getcwd() # save directory of the jupyter notebook\n",
    "    config_path = os.path.dirname(os.path.dirname(xml_selector.value))\n",
    "    os.chdir(config_path) # navigate to ore config folder\n",
    "    command = [ore_path_selector.value, os.path.join(os.path.join(config_path, 'Input'),'ore.xml')]\n",
    "    print(\"Starting ORE run... please wait...\")\n",
    "    p = subprocess.Popen(command,\n",
    "        stdin=subprocess.PIPE,\n",
    "        stdout=subprocess.PIPE,\n",
    "        stderr=subprocess.PIPE)\n",
    "    stdout, stderr = p.communicate()\n",
    "    os.chdir(cwd) # go back to jupyter notebook\n",
    "    print(\"ORE run successful!\")\n",
    "    global npv_cube_filename\n",
    "    npv_cube_filename = os.path.join(os.path.join(config_path, 'Output'),'rawcube.csv')\n",
    "\n",
    "launch_button.on_click(launch_ore)\n",
    "display(ore_path_selector)\n",
    "display(xml_selector)\n",
    "display(launch_button)"
   ]
  },
  {
   "cell_type": "markdown",
   "metadata": {
    "extensions": {
     "jupyter_dashboards": {
      "version": 1,
      "views": {
       "grid_default": {
        "col": 0,
        "height": 2,
        "hidden": false,
        "row": 7,
        "width": 12
       },
       "report_default": {}
      }
     }
    }
   },
   "source": [
    "## Select Netting Sets and Trades"
   ]
  },
  {
   "cell_type": "markdown",
   "metadata": {
    "extensions": {
     "jupyter_dashboards": {
      "version": 1,
      "views": {
       "grid_default": {
        "col": 0,
        "height": 4,
        "hidden": true,
        "row": 31,
        "width": 12
       },
       "report_default": {}
      }
     }
    }
   },
   "source": [
    "This section allows you to select the netting sets and trades you want to analyze. Select the cube file by either changing the default path in the cell below or by pasting its location in the menu after you executed the cells of this section. Click on `Load` to load in the data. You can select only one netting set at a time, but arbitrary few or many trades in it."
   ]
  },
  {
   "cell_type": "code",
   "execution_count": null,
   "metadata": {
    "collapsed": true,
    "extensions": {
     "jupyter_dashboards": {
      "version": 1,
      "views": {
       "grid_default": {
        "hidden": true
       },
       "report_default": {}
      }
     }
    }
   },
   "outputs": [],
   "source": [
    "npv_cube_filename = 'D:\\\\cppdev\\\\openxva\\\\Examples\\\\Example_2\\\\Output\\\\rawcube.csv'"
   ]
  },
  {
   "cell_type": "code",
   "execution_count": null,
   "metadata": {
    "collapsed": false,
    "extensions": {
     "jupyter_dashboards": {
      "version": 1,
      "views": {
       "grid_default": {
        "col": 0,
        "height": 7,
        "hidden": false,
        "row": 9,
        "width": 12
       },
       "report_default": {}
      }
     }
    }
   },
   "outputs": [],
   "source": [
    "import pandas as pd       \n",
    "from ipywidgets import Select, SelectMultiple, HBox\n",
    "\n",
    "current_netting_sets = [0]\n",
    "def set_current_netting_sets(netting_sets):\n",
    "    current_netting_sets = netting_sets['new']\n",
    "\n",
    "current_trades = [0]\n",
    "def set_current_trades(trades):\n",
    "    current_trades = trades['new']\n",
    "\n",
    "netting_set_selector = Select(description='Netting Sets:')\n",
    "trades_selector = SelectMultiple(description='Trades:')\n",
    "netting_set_selector.observe(set_current_netting_sets, names='value')\n",
    "trades_selector.observe(set_current_trades, names='value')\n",
    "def load_cube_file(b):\n",
    "    csv_file = npv_file_selector.value\n",
    "    global df\n",
    "    df = pd.read_csv(csv_file)\n",
    "    df.columns = ['Id', 'NettingSet', 'DateIndex' , 'Date', 'Sample', 'Value']\n",
    "    netting_set_selector.options = list(df.NettingSet.unique())\n",
    "    trades_selector.options = list(df.Id.unique())\n",
    "    trades_selector.value = trades_selector.options\n",
    "\n",
    "\n",
    "npv_file_selector = Text(description='Cube File:', value=npv_cube_filename, width=200)\n",
    "read_npv_button = Button(description='Load')\n",
    "read_npv_button.on_click(load_cube_file)\n",
    "\n",
    "load_cube_file(read_npv_button)\n",
    "\n",
    "display(HBox([npv_file_selector, read_npv_button]))\n",
    "display(HBox([netting_set_selector, trades_selector]))"
   ]
  },
  {
   "cell_type": "markdown",
   "metadata": {
    "extensions": {
     "jupyter_dashboards": {
      "version": 1,
      "views": {
       "grid_default": {
        "col": 0,
        "height": 2,
        "hidden": false,
        "row": 16,
        "width": 12
       },
       "report_default": {}
      }
     }
    }
   },
   "source": [
    "## Plot Exposure Density Surface (matplotlib)"
   ]
  },
  {
   "cell_type": "markdown",
   "metadata": {
    "collapsed": true,
    "extensions": {
     "jupyter_dashboards": {
      "version": 1,
      "views": {
       "grid_default": {
        "col": 8,
        "height": 6,
        "hidden": true,
        "row": 5,
        "width": 4
       },
       "report_default": {}
      }
     }
    }
   },
   "source": [
    "We aggregate the npv values of the trades from the cube to a netting set level. For each date (x-axis) we estimate the density of the distribution of the values (y-axis) and plot the value of this density (z-axis) as a surface plot. Notice that the z-axis has no business meaning."
   ]
  },
  {
   "cell_type": "code",
   "execution_count": null,
   "metadata": {
    "collapsed": false,
    "extensions": {
     "jupyter_dashboards": {
      "version": 1,
      "views": {
       "grid_default": {
        "col": 0,
        "height": 22,
        "hidden": false,
        "row": 18,
        "width": 12
       },
       "report_default": {}
      }
     }
    }
   },
   "outputs": [],
   "source": [
    "import numpy as np\n",
    "\n",
    "from enum import Enum\n",
    "from ipywidgets import RadioButtons, FloatSlider\n",
    "\n",
    "%matplotlib notebook\n",
    "import matplotlib\n",
    "import matplotlib.pyplot as plt\n",
    "from mpl_toolkits.mplot3d import Axes3D\n",
    "from matplotlib import cm\n",
    "from matplotlib.font_manager import FontProperties\n",
    "\n",
    "from scipy.stats.kde import gaussian_kde\n",
    "from numpy.linalg.linalg import LinAlgError\n",
    "\n",
    "class ExposureTypes(Enum):\n",
    "    EE = 'EE'\n",
    "    EPE = 'EPE'\n",
    "    ENE = 'ENE'\n",
    "\n",
    "# sum values over selected trades in netting set\n",
    "df_surface_ee = df[(df.NettingSet == netting_set_selector.value) & df.Id.isin(trades_selector.value)][['Id', 'Value', 'Sample', 'DateIndex']].groupby(['DateIndex','Sample']).sum().reset_index()\n",
    "# truncate for EPE or ENE\n",
    "df_surface_epe = df_surface_ee.copy()\n",
    "df_surface_epe.loc[df_surface_epe['Value']<0,'Value']=0\n",
    "df_surface_ene = df_surface_ee.copy()\n",
    "df_surface_ene.loc[df_surface_ene['Value']>0,'Value']=0\n",
    "df_data = {ExposureTypes.EE:df_surface_ee,\n",
    "          ExposureTypes.EPE:df_surface_epe,\n",
    "          ExposureTypes.ENE:df_surface_ene,}\n",
    "\n",
    "fig_surface = plt.figure()\n",
    "fig_surface.canvas.set_window_title('Density Surface')\n",
    "\n",
    "dates = pd.to_datetime(df['Date']).unique()\n",
    "dates = dates - dates.min()\n",
    "years = dates.astype('timedelta64[Y]') / np.timedelta64(1, 'Y')\n",
    "\n",
    "def plot_exposure_surface(current_exposure):\n",
    "    global df_data\n",
    "    df_surface = df_data[ExposureTypes[current_exposure]]\n",
    "     # for each date index, calculate densities of distribution of values\n",
    "    grid_size = 50\n",
    "    global npv_min\n",
    "    global npv_max\n",
    "    npv_min = df_surface.Value.min()\n",
    "    npv_max = df_surface.Value.max()\n",
    "    global dist_space\n",
    "    dist_space = np.linspace(npv_min, npv_max, grid_size)\n",
    "    global num_dates\n",
    "    num_dates = len(df_surface.DateIndex.unique())\n",
    "    global density_values\n",
    "    density_values = np.zeros((num_dates, grid_size))\n",
    "    for k in range(num_dates):\n",
    "        row = df_surface.loc[df_surface['DateIndex']==k, 'Value'].values\n",
    "        try:\n",
    "            density = gaussian_kde(row)\n",
    "            density_values[k] = density(dist_space)\n",
    "        except:\n",
    "            density_values[k] = np.zeros(grid_size)\n",
    "    global density_max\n",
    "    density_max = np.max(density_values)\n",
    "    \n",
    "    # plot result\n",
    "    global fig_surface\n",
    "    fig_surface.clear()\n",
    "    ax_surface = fig_surface.add_subplot(111, projection='3d')\n",
    "    ax_surface.set_xticks(years)\n",
    "    ax_surface.set_xticklabels(years)\n",
    "    ax_surface.get_xaxis().set_major_formatter(matplotlib.ticker.FuncFormatter(lambda x, p: \"{:,.1f}\".format(x)))\n",
    "    ax_surface.set_xlabel('years')\n",
    "    ax_surface.get_yaxis().set_major_formatter(matplotlib.ticker.FuncFormatter(lambda x, p: \"{:,.1f}\".format(x/1000000)))\n",
    "    ax_surface.set_ylabel(exposure_selector.value+\" [mn]\")\n",
    "    X, Y = np.meshgrid(years, dist_space)\n",
    "    ax_surface.plot_trisurf(X.flatten(), Y.flatten(), density_values.T.flatten(), cmap=cm.jet, linewidth=0)\n",
    "    plt.show()\n",
    "\n",
    "def change_exposure_type(rb):\n",
    "    plot_exposure_surface(rb['new'])\n",
    "\n",
    "exposure_selector = RadioButtons(description='Exposure Type:', options=[name for name,member in ExposureTypes.__members__.items()])\n",
    "exposure_selector.observe(change_exposure_type, names='value')\n",
    "plot_exposure_surface(exposure_selector.value)\n",
    "display(exposure_selector)"
   ]
  },
  {
   "cell_type": "markdown",
   "metadata": {
    "extensions": {
     "jupyter_dashboards": {
      "version": 1,
      "views": {
       "grid_default": {
        "col": 0,
        "height": 2,
        "hidden": false,
        "row": 40,
        "width": 12
       },
       "report_default": {}
      }
     }
    }
   },
   "source": [
    "## TimeSlider"
   ]
  },
  {
   "cell_type": "code",
   "execution_count": null,
   "metadata": {
    "collapsed": false,
    "extensions": {
     "jupyter_dashboards": {
      "version": 1,
      "views": {
       "grid_default": {
        "col": 0,
        "height": 22,
        "hidden": false,
        "row": 42,
        "width": 12
       },
       "report_default": {}
      }
     }
    }
   },
   "outputs": [],
   "source": [
    "from ipywidgets import IntSlider, FloatText\n",
    "\n",
    "fig_surface = plt.figure()\n",
    "ax_time_slider = fig_surface.add_subplot(111)\n",
    "fig_surface.canvas.set_window_title('Time Slider')\n",
    "\n",
    "def plot_time_slider(change):\n",
    "    date = change['new']\n",
    "    ax_time_slider.cla()\n",
    "    ax_time_slider.plot(dist_space, density_values[date], color='k', label=exposure_selector.value)\n",
    "    ax_time_slider.get_xaxis().set_major_formatter(matplotlib.ticker.FuncFormatter(lambda x, p: format(int(x), ',')))\n",
    "    ax_time_slider.set_xlim(npv_min, npv_max)\n",
    "    ax_time_slider.set_ylim(0, density_max)\n",
    "    ax_time_slider.set_xlabel(\"Exposure\")\n",
    "    year_text.value = years[date]\n",
    "    \n",
    "time_slider = IntSlider(min=0, max=num_dates-1, value=0, description='DateIndex:')\n",
    "time_slider.observe(plot_time_slider, names='value')\n",
    "year_text = FloatText(description=\"Years:\", value=years[time_slider.value])\n",
    "display(HBox([time_slider, year_text]))"
   ]
  },
  {
   "cell_type": "markdown",
   "metadata": {
    "extensions": {
     "jupyter_dashboards": {
      "version": 1,
      "views": {
       "grid_default": {
        "col": 0,
        "height": 2,
        "hidden": false,
        "row": 64,
        "width": 12
       },
       "report_default": {}
      }
     }
    }
   },
   "source": [
    "## Plot Exposure Density Surface (pythreejs)"
   ]
  },
  {
   "cell_type": "markdown",
   "metadata": {
    "extensions": {
     "jupyter_dashboards": {
      "version": 1,
      "views": {
       "grid_default": {
        "col": 0,
        "height": 4,
        "hidden": true,
        "row": 31,
        "width": 4
       },
       "report_default": {}
      }
     }
    }
   },
   "source": [
    "This requires `pythreejs`, see https://github.com/jovyan/pythreejs."
   ]
  },
  {
   "cell_type": "code",
   "execution_count": null,
   "metadata": {
    "collapsed": false,
    "extensions": {
     "jupyter_dashboards": {
      "version": 1,
      "views": {
       "grid_default": {
        "col": 0,
        "height": 19,
        "hidden": false,
        "row": 66,
        "width": 12
       },
       "report_default": {}
      }
     }
    }
   },
   "outputs": [],
   "source": [
    "import pythreejs as p3js\n",
    "from ipywidgets import interact\n",
    "\n",
    "hs, ws = density_values.shape\n",
    "\n",
    "surf_g = p3js.SurfaceGeometry(z=list(density_values.flat), width=1, height=1, width_segments=ws - 1, height_segments=hs - 1)\n",
    "surf = p3js.Mesh(geometry=surf_g, material=p3js.LambertMaterial(map=p3js.height_texture(density_values, 'YlGnBu_r')))\n",
    "surfgrid = p3js.SurfaceGrid(geometry=surf_g, material=p3js.LineBasicMaterial(color='black'))\n",
    "scene = p3js.Scene(children=[surf, p3js.AmbientLight(color='#777777')])\n",
    "c = p3js.PerspectiveCamera(position=[0, 2, 3], up=[0, 0, 1], \n",
    "                      children=[p3js.DirectionalLight(color='white', position=[3, 2, 1], intensity=0.8)])\n",
    "renderer = p3js.Renderer(camera=c, scene = scene, controls=[p3js.OrbitControls(controlling=c)])\n",
    "\n",
    "display(renderer)\n",
    "\n",
    "@interact(width=FloatSlider(min=1, max=10), \n",
    "          height=FloatSlider(min=1, max=10), \n",
    "          scale=FloatSlider(min=1, max=1000000, value=100000),)\n",
    "def adapt_dimensions(width, height, scale):\n",
    "    surf_g.width = width\n",
    "    surf_g.height = height\n",
    "    surf_g.z = list((scale * density_values).flat)"
   ]
  },
  {
   "cell_type": "markdown",
   "metadata": {
    "extensions": {
     "jupyter_dashboards": {
      "version": 1,
      "views": {
       "grid_default": {
        "col": 0,
        "height": 2,
        "hidden": false,
        "row": 85,
        "width": 12
       },
       "report_default": {}
      }
     }
    }
   },
   "source": [
    "## Exposure Statistics (matplotlib)"
   ]
  },
  {
   "cell_type": "code",
   "execution_count": null,
   "metadata": {
    "collapsed": false,
    "extensions": {
     "jupyter_dashboards": {
      "version": 1,
      "views": {
       "grid_default": {
        "col": 0,
        "height": 19,
        "hidden": true,
        "row": 35,
        "width": 12
       },
       "report_default": {}
      }
     }
    }
   },
   "outputs": [],
   "source": [
    "df_stats = df[(df.NettingSet == netting_set_selector.value) & df.Id.isin(trades_selector.value)][['Id', 'Value', 'Sample', 'DateIndex']].groupby(['DateIndex','Sample']).sum().reset_index()\n",
    "df_epe = df_stats.copy()\n",
    "df_ene = df_stats.copy()\n",
    "\n",
    "df_epe.loc[df_epe['Value']<0,'Value']=0\n",
    "df_ene.loc[df_ene['Value']>0,'Value']=0\n",
    "\n",
    "ee = df_stats[['DateIndex', 'Value']].groupby('DateIndex').mean().values[:,0]\n",
    "epe = df_epe[['DateIndex', 'Value']].groupby('DateIndex').mean().values[:,0]\n",
    "ene = df_ene[['DateIndex', 'Value']].groupby('DateIndex').mean().values[:,0]"
   ]
  },
  {
   "cell_type": "code",
   "execution_count": null,
   "metadata": {
    "collapsed": false,
    "extensions": {
     "jupyter_dashboards": {
      "version": 1,
      "views": {
       "grid_default": {
        "col": 0,
        "height": 22,
        "hidden": false,
        "row": 87,
        "width": 12
       },
       "report_default": {}
      }
     }
    }
   },
   "outputs": [],
   "source": [
    "fig_statistics = plt.figure()\n",
    "ax_statistics = fig_statistics.add_subplot(111)\n",
    "\n",
    "dates = pd.to_datetime(df['Date']).unique()\n",
    "dates = dates - dates.min()\n",
    "years = dates.astype('timedelta64[D]') / np.timedelta64(1, 'D') / 365\n",
    "date_step=3\n",
    "\n",
    "def plot_exposure_statistics(pfe_percentile):\n",
    "    ax_statistics.cla()\n",
    "    pfe_percentile_val = pfe_percentile['new']\n",
    "    ax_statistics.plot(years, ee, label=ExposureTypes.EE.value)\n",
    "    ax_statistics.plot(years, epe, label=ExposureTypes.EPE.value)\n",
    "    ax_statistics.plot(years, ene, label=ExposureTypes.ENE.value)\n",
    "    pfe = df_stats[['DateIndex', 'Value']].groupby('DateIndex').quantile(pfe_percentile_val/100).values[:,0]\n",
    "    ax_statistics.plot(years, pfe, label='PFE ' + str(pfe_percentile_val))\n",
    "    ax_statistics.set_xticks(years[::date_step])\n",
    "    ax_statistics.set_xticklabels(years[::date_step])\n",
    "    ax_statistics.get_xaxis().set_major_formatter(matplotlib.ticker.FuncFormatter(lambda x, p: \"{:,.1f}\".format(x)))\n",
    "    ax_statistics.set_xlabel('years')\n",
    "\n",
    "    #ax_statistics.get_yaxis().set_major_formatter(matplotlib.ticker.FuncFormatter(lambda x, p: \"{:,.1f}\".format(x)))\n",
    "    ax_statistics.set_ylabel(\"Exposure [mn]\")\n",
    "    ax_statistics.get_yaxis().set_major_formatter(matplotlib.ticker.FuncFormatter(lambda x, p: format(int(x), ',')))\n",
    "    ax_statistics.set_ylim([np.amin(df_stats[['DateIndex', 'Value']].groupby('DateIndex').min().values),np.amax(df_stats[['DateIndex', 'Value']].groupby('DateIndex').max().values)*1.01])\n",
    "    \n",
    "    fontP = FontProperties() # set legend outside plot\n",
    "    fontP.set_size('small')\n",
    "    ax_statistics.legend(loc='upper left', shadow=True, prop=fontP)\n",
    "    plt.show()\n",
    "    \n",
    "percentile_selector = FloatSlider(min=90, max=100, value=95, description='PFE Percentile:')\n",
    "percentile_selector.observe(plot_exposure_statistics, names='value')\n",
    "display(percentile_selector)"
   ]
  },
  {
   "cell_type": "markdown",
   "metadata": {
    "extensions": {
     "jupyter_dashboards": {
      "version": 1,
      "views": {
       "grid_default": {
        "col": 0,
        "height": 2,
        "hidden": false,
        "row": 109,
        "width": 12
       },
       "report_default": {}
      }
     }
    }
   },
   "source": [
    "## Exposure statistics (bqplot)"
   ]
  },
  {
   "cell_type": "markdown",
   "metadata": {
    "extensions": {
     "jupyter_dashboards": {
      "version": 1,
      "views": {
       "grid_default": {
        "col": 0,
        "height": 4,
        "hidden": true,
        "row": 31,
        "width": 4
       },
       "report_default": {}
      }
     }
    }
   },
   "source": [
    "This requires `bqplot`, see https://github.com/bloomberg/bqplot."
   ]
  },
  {
   "cell_type": "code",
   "execution_count": null,
   "metadata": {
    "collapsed": false,
    "extensions": {
     "jupyter_dashboards": {
      "version": 1,
      "views": {
       "grid_default": {
        "col": 0,
        "height": 20,
        "hidden": false,
        "row": 111,
        "width": null
       },
       "report_default": {}
      }
     }
    }
   },
   "outputs": [],
   "source": [
    "import bqplot as bq\n",
    "from traitlets import link\n",
    "\n",
    "xs = bq.LinearScale()\n",
    "ys = bq.LinearScale()\n",
    "x = years\n",
    "pfe = df_stats[['DateIndex', 'Value']].groupby('DateIndex').quantile(0.95).values[:,0]\n",
    "y = np.vstack((ee,epe,ene,pfe))\n",
    "\n",
    "line = bq.Lines(x=x, y=y, scales={'x': xs, 'y': ys}, display_legend=True, labels=['EE','EPE', 'ENE', 'PFE'])\n",
    "xax = bq.Axis(scale=xs, label='years', grid_lines='solid')\n",
    "yax = bq.Axis(scale=ys, orientation='vertical', tick_format=',0.2f', grid_lines='solid')\n",
    "\n",
    "fig = bq.Figure(marks=[line], axes=[xax, yax], animation_duration=1000, legend_location='top-left')\n",
    "display(fig)\n",
    "\n",
    "percentile_slider = FloatSlider(min=90, max=100, value=95)\n",
    "percentile_text = FloatText(description=\"percentile\", value=percentile_slider.value)\n",
    "link((percentile_slider,'value'),(percentile_text,'value'))\n",
    "\n",
    "@interact(percentile = percentile_slider)\n",
    "def change_percentile(percentile):\n",
    "    pfe = df_stats[['DateIndex', 'Value']].groupby('DateIndex').quantile(percentile/100).values[:,0]\n",
    "    y = np.vstack((ee,epe,ene,pfe))\n",
    "    line.y = y\n",
    "    line.labels = ['EE','EPE', 'ENE', 'PFE ' + str(percentile)]\n",
    "\n",
    "display(percentile_text)"
   ]
  },
  {
   "cell_type": "code",
   "execution_count": null,
   "metadata": {
    "collapsed": true,
    "extensions": {
     "jupyter_dashboards": {
      "version": 1,
      "views": {
       "grid_default": {
        "hidden": true
       },
       "report_default": {}
      }
     }
    }
   },
   "outputs": [],
   "source": []
  }
 ],
 "metadata": {
  "extensions": {
   "jupyter_dashboards": {
    "activeView": "grid_default",
    "version": 1,
    "views": {
     "grid_default": {
      "cellMargin": 10,
      "defaultCellHeight": 20,
      "maxColumns": 12,
      "name": "grid",
      "type": "grid"
     },
     "report_default": {
      "name": "report",
      "type": "report"
     }
    }
   }
  },
  "kernelspec": {
   "display_name": "Python 3",
   "language": "python",
   "name": "python3"
  },
  "language_info": {
   "codemirror_mode": {
    "name": "ipython",
    "version": 3
   },
   "file_extension": ".py",
   "mimetype": "text/x-python",
   "name": "python",
   "nbconvert_exporter": "python",
   "pygments_lexer": "ipython3",
   "version": "3.5.2"
  },
  "widgets": {
   "state": {
    "027887db98fc4af28cc1c62e1b4cd595": {
     "views": [
      {
       "cell_index": 16
      }
     ]
    },
    "02d9ef73a76a479bb9fd87bbc50737c2": {
     "views": [
      {
       "cell_index": 5
      }
     ]
    },
    "074aaec55f354d50b3c235c5f0d683ac": {
     "views": [
      {
       "cell_index": 16
      }
     ]
    },
    "09fe4966280b4f8f9669d07d725098e2": {
     "views": [
      {
       "cell_index": 16
      }
     ]
    },
    "1f8b3f8d07474cc49a492307f84ef95d": {
     "views": [
      {
       "cell_index": 16
      }
     ]
    },
    "1f929c76c8bd4deca0d1bc64d31bff7d": {
     "views": [
      {
       "cell_index": 16
      }
     ]
    },
    "2577a9e39c1f49998e30a98f348d5925": {
     "views": [
      {
       "cell_index": 9
      }
     ]
    },
    "2d22f048883c4def89e937e411f37205": {
     "views": [
      {
       "cell_index": 16
      }
     ]
    },
    "313f45fd97924759a35f8542bdc6e3da": {
     "views": [
      {
       "cell_index": 16
      }
     ]
    },
    "33351f5f0b384280aca6977c88e378e6": {
     "views": [
      {
       "cell_index": 16
      }
     ]
    },
    "371c1550d32b43dcb72a66fd525a8dd9": {
     "views": [
      {
       "cell_index": 19
      }
     ]
    },
    "41fcc7aa01f5416e99cf39afb3c6b08f": {
     "views": [
      {
       "cell_index": 16
      }
     ]
    },
    "49985d5d884f4f1b8df1fe18db312752": {
     "views": [
      {
       "cell_index": 16
      }
     ]
    },
    "4b5290e1503e4d5a8e13fe29f435f7fe": {
     "views": [
      {
       "cell_index": 9
      }
     ]
    },
    "4ed3fec382b64aa7bda97ebeacfac4e6": {
     "views": [
      {
       "cell_index": 12
      }
     ]
    },
    "57d5bfa22d9f4c2889abcacc8aa5fd33": {
     "views": [
      {
       "cell_index": 16
      }
     ]
    },
    "61351a7ffe5e4465950fe478a9881656": {
     "views": [
      {
       "cell_index": 16
      }
     ]
    },
    "7765593eb4254d7383dfc6d0458aa09c": {
     "views": [
      {
       "cell_index": 22
      }
     ]
    },
    "7cfe01582ed84e1f8408e509c65094f6": {
     "views": [
      {
       "cell_index": 13
      }
     ]
    },
    "8a418c93db38441280e0bba704669ecb": {
     "views": [
      {
       "cell_index": 16
      }
     ]
    },
    "8ad18821b2bf4e49abca49d39a530b67": {
     "views": [
      {
       "cell_index": 16
      }
     ]
    },
    "8b733b033e5f4f1f897eb70cfc13e1f4": {
     "views": [
      {
       "cell_index": 22
      }
     ]
    },
    "8c8d5a88d6344b2bb32ce6350d002ce9": {
     "views": [
      {
       "cell_index": 16
      }
     ]
    },
    "8d41ce8ffafa4fe5b4c1a53dd9dc66a6": {
     "views": [
      {
       "cell_index": 22
      }
     ]
    },
    "9917fb29802a415cb88a7916425312cc": {
     "views": [
      {
       "cell_index": 5
      }
     ]
    },
    "a58981448f76405ea36c54704c976a24": {
     "views": [
      {
       "cell_index": 16
      }
     ]
    },
    "a5cf0b5c65bb43b99404caeee73a234d": {
     "views": [
      {
       "cell_index": 16
      }
     ]
    },
    "b5e99a117bd6488c8d9eb1ec673ba379": {
     "views": [
      {
       "cell_index": 5
      }
     ]
    },
    "b9e36832adf849d2b67b478cf965b41d": {
     "views": [
      {
       "cell_index": 16
      }
     ]
    },
    "bbd446c54868418c9a3e7fec0210f934": {
     "views": [
      {
       "cell_index": 9
      }
     ]
    },
    "c335283d8f9642a391bfbca74c8088f7": {
     "views": [
      {
       "cell_index": 22
      }
     ]
    },
    "caa7da5b0fb94376bb0ab134eaf74eed": {
     "views": [
      {
       "cell_index": 5
      }
     ]
    },
    "d5a58aa6907f44b9902fa1e863fa84d8": {
     "views": [
      {
       "cell_index": 16
      }
     ]
    },
    "d7b565a45b1047808f6fda9aca5c27e3": {
     "views": [
      {
       "cell_index": 16
      }
     ]
    },
    "e8a04ec47347421f8ffc41b0c6075663": {
     "views": [
      {
       "cell_index": 16
      }
     ]
    },
    "ee70f09ecac64bf0a969cb0a1691e03f": {
     "views": [
      {
       "cell_index": 16
      }
     ]
    },
    "f145a53176724a23976bddf8ad8d8045": {
     "views": [
      {
       "cell_index": 16
      }
     ]
    }
   },
   "version": "1.2.0"
  }
 },
 "nbformat": 4,
 "nbformat_minor": 0
}
