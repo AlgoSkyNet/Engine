{
 "cells": [
  {
   "cell_type": "markdown",
   "metadata": {
    "extensions": {
     "jupyter_dashboards": {
      "version": 1,
      "views": {
       "grid_default": {
        "col": 0,
        "height": 4,
        "hidden": true,
        "row": 20,
        "width": 4
       },
       "report_default": {}
      }
     }
    }
   },
   "source": [
    "# ORE Dashboard"
   ]
  },
  {
   "cell_type": "markdown",
   "metadata": {
    "extensions": {
     "jupyter_dashboards": {
      "version": 1,
      "views": {
       "grid_default": {
        "col": 4,
        "height": 4,
        "hidden": true,
        "row": 26,
        "width": 4
       },
       "report_default": {}
      }
     }
    }
   },
   "source": [
    "Some introduction etc..."
   ]
  },
  {
   "cell_type": "markdown",
   "metadata": {
    "extensions": {
     "jupyter_dashboards": {
      "version": 1,
      "views": {
       "grid_default": {
        "col": 8,
        "height": 4,
        "hidden": true,
        "row": 26,
        "width": 4
       },
       "report_default": {}
      }
     }
    }
   },
   "source": [
    "## Launch ORE"
   ]
  },
  {
   "cell_type": "code",
   "execution_count": null,
   "metadata": {
    "collapsed": false,
    "extensions": {
     "jupyter_dashboards": {
      "version": 1,
      "views": {
       "grid_default": {
        "col": 0,
        "height": 5,
        "hidden": false,
        "row": 0,
        "width": 4
       },
       "report_default": {}
      }
     }
    }
   },
   "outputs": [],
   "source": [
    "from ipywidgets import Text, Button\n",
    "from IPython.display import display\n",
    "import subprocess\n",
    "import os\n",
    "\n",
    "ore_path_selector = Text(description='ORE Path:', value='D:\\\\cppdev\\\\openxva\\\\App\\\\bin\\\\x64\\\\Debug\\\\', width=200)\n",
    "xml_selector = Text(description='XML File:', value='D:\\cppdev\\openxva\\Examples\\Example_2\\Input\\\\ore.xml', width=200)\n",
    "launch_button = Button(description='Launch')\n",
    "\n",
    "npv_cube_filename = \"\"\n",
    "\n",
    "def launch_ore(b):\n",
    "    cwd = os.getcwd() # save directory of the jupyter notebook\n",
    "    print(cwd)\n",
    "    config_path = os.path.dirname(os.path.dirname(xml_selector.value))\n",
    "    os.chdir(config_path) # navigate to ore config folder\n",
    "    print(os.getcwd())\n",
    "    command = [ore_path_selector.value + 'ore.exe', os.path.join(os.path.join(config_path, 'Input'),'ore.xml')]\n",
    "    print(command)\n",
    "    print(\"Starting ORE run... please wait...\")\n",
    "    p = subprocess.Popen(command,\n",
    "        stdin=subprocess.PIPE,\n",
    "        stdout=subprocess.PIPE,\n",
    "        stderr=subprocess.PIPE)\n",
    "    stdout, stderr = p.communicate()\n",
    "    print(stdout)\n",
    "    print(stderr)\n",
    "    cwd = os.getcwd()\n",
    "    os.chdir(cwd) # go back to jupyter notebook\n",
    "    print(\"ORE run successful!\")\n",
    "    npv_cube_filename = os.path.join(os.path.join(config_path, 'Output'),'rawcube.csv')\n",
    "\n",
    "launch_button.on_click(launch_ore)\n",
    "\n",
    "display(ore_path_selector)\n",
    "display(xml_selector)\n",
    "display(launch_button)"
   ]
  },
  {
   "cell_type": "code",
   "execution_count": null,
   "metadata": {
    "collapsed": false,
    "extensions": {
     "jupyter_dashboards": {
      "version": 1,
      "views": {
       "grid_default": {
        "col": 4,
        "height": 4,
        "hidden": true,
        "row": 26,
        "width": 4
       },
       "report_default": {}
      }
     }
    }
   },
   "outputs": [],
   "source": [
    "print(os.getcwd())"
   ]
  },
  {
   "cell_type": "markdown",
   "metadata": {
    "extensions": {
     "jupyter_dashboards": {
      "version": 1,
      "views": {
       "grid_default": {
        "col": 8,
        "height": 4,
        "hidden": true,
        "row": 26,
        "width": 4
       },
       "report_default": {}
      }
     }
    }
   },
   "source": [
    "## Select Netting Sets and Trades"
   ]
  },
  {
   "cell_type": "code",
   "execution_count": null,
   "metadata": {
    "collapsed": false
   },
   "outputs": [],
   "source": [
    "import pandas as pd\n",
    "import numpy as np\n",
    "\n",
    "class NpvCube(object):\n",
    "\n",
    "    def __init__(self, csv_file):\n",
    "        self.df = pd.read_csv(csv_file)\n",
    "        self.df.columns = ['Id', 'NettingSet', 'DateIndex' , 'Date', 'Sample', 'Value']\n",
    "        self.dates = self.df.Date.unique()\n",
    "        self.trades = self.df.Id.unique()\n",
    "        self.netting_sets = self.df.NettingSet.unique()\n",
    "        self.datedict = {val: num for num, val in enumerate(self.dates)}\n",
    "        self.tradedict = {val: num for num, val in enumerate(self.trades)}\n",
    "        self.netting_set_dict = {val: num for num, val in enumerate(self.netting_sets)}\n",
    "        self.nd = np.array([])\n",
    "        self.density_values = np.array([])\n",
    "        self.dist_space = np.array([])\n",
    "        self.exposure_statistics ={}\n",
    "        self.npv_min = None\n",
    "        self.npv_max = None\n",
    "        self.density_max = None\n",
    "        self.grid_size = 50\n",
    "        #self.calc_nd()\n",
    "\n",
    "    def calc_nd(self):\n",
    "        \"\"\" Converts DataFrame into 3D array. \"\"\"\n",
    "        self.nd = np.zeros((len(self.dates), len(self.trades), self.df.Sample.max() + 1))\n",
    "        for row in self.df.values:\n",
    "            i = self.datedict[row[2]]\n",
    "            j = self.tradedict[row[0]]\n",
    "            k = row[3]\n",
    "            self.nd[i][j][k] = row[4]\n",
    "\n",
    "    def trades_samples_per_date(self, trades):\n",
    "        # ToDo: this can probably be improved\n",
    "        sum = np.array([self.nd[self.datedict[date], trades[0], :] for date in self.dates])\n",
    "        for i in range(1, len(trades)):\n",
    "            sum += np.array([self.nd[self.datedict[date], trades[i], :] for date in self.dates])\n",
    "        return sum\n",
    "\n",
    "    def calc_density_data(self, trades, exposure):\n",
    "        data = self.trades_samples_per_date(trades)\n",
    "        if exposure == ExposureTypes.npvp:\n",
    "            data = np.fmax(data, np.zeros(data.shape))\n",
    "        elif exposure == ExposureTypes.npvm:\n",
    "            data = np.fmax(-data, np.zeros(data.shape))\n",
    "        self.dist_space = np.linspace(np.min(data), np.max(data), self.grid_size)\n",
    "        self.density_values = np.zeros((len(self.dates), self.grid_size))\n",
    "        for k in range(len(data)):\n",
    "            row = data[k]\n",
    "            try:\n",
    "                density = gaussian_kde(row)\n",
    "                self.density_values[k] = density(self.dist_space)\n",
    "            except LinAlgError:\n",
    "                self.density_values[k] = np.zeros(self.grid_size)\n",
    "        self.density_max = np.max(self.density_values)\n",
    "        self.npv_min = np.amin(data)\n",
    "        self.npv_max = np.amax(data)\n",
    "        if exposure == ExposureTypes.npvp:\n",
    "            self.npv_min = max(self.npv_min, 0)\n",
    "            self.npv_max = max(self.npv_max, 0)\n",
    "        elif exposure == ExposureTypes.npvm:\n",
    "            self.npv_min = min(self.npv_min, 0)\n",
    "            self.npv_max = min(self.npv_max, 0)\n",
    "\n",
    "    def calc_exposure_statistics(self, trade):\n",
    "        data = self.trades_samples_per_date(trade)\n",
    "        data_plus = np.fmax(data, np.zeros(data.shape))\n",
    "        data_minus = -np.fmax(-data, np.zeros(data.shape))\n",
    "        npv = np.average(data, axis=1)\n",
    "        npv_plus = np.average(data_plus, axis=1)\n",
    "        npv_minus = np.average(data_minus, axis=1)\n",
    "        perc = np.percentile(data, 95 , axis=1)\n",
    "        self.exposure_statistics = {\n",
    "            'npv': npv,\n",
    "            'npv+': npv_plus,\n",
    "            'npv-': npv_minus,\n",
    "            'perc': perc}"
   ]
  },
  {
   "cell_type": "code",
   "execution_count": null,
   "metadata": {
    "collapsed": false,
    "extensions": {
     "jupyter_dashboards": {
      "version": 1,
      "views": {
       "grid_default": {
        "col": 0,
        "height": 4,
        "hidden": false,
        "row": 5,
        "width": 12
       },
       "report_default": {}
      }
     }
    }
   },
   "outputs": [],
   "source": [
    "print(npv_cube_filename)\n",
    "\n",
    "import pandas as pd       \n",
    "\n",
    "from ipywidgets import SelectMultiple, HBox\n",
    "\n",
    "current_netting_sets = [0]\n",
    "def set_current_netting_sets(netting_sets):\n",
    "    current_netting_sets = netting_sets['new']\n",
    "\n",
    "current_trades = [0]\n",
    "def set_current_trades(trades):\n",
    "    current_trades = trades['new']\n",
    "    \n",
    "df = None\n",
    "netting_set_selector = SelectMultiple(description='Netting Sets:')\n",
    "trades_selector = SelectMultiple(description='Trades:')\n",
    "netting_set_selector.observe(set_current_netting_sets, names='value')\n",
    "trades_selector.observe(set_current_trades, names='value')\n",
    "def load_cube_file(b):\n",
    "    csv_file = npv_file_selector.value\n",
    "    df = pd.read_csv(csv_file)\n",
    "    df.columns = ['Id', 'NettingSet', 'DateIndex' , 'Date', 'Sample', 'Value']\n",
    "    tradedict = {val: num for num, val in enumerate(df.Id.unique())}\n",
    "    netting_set_dict = {val: num for num, val in enumerate(df.NettingSet.unique())}\n",
    "    netting_set_selector.options = netting_set_dict\n",
    "    trades_selector.options = tradedict\n",
    "\n",
    "npv_file_selector = Text(description='Cube File:', value='D:\\cppdev\\openxva\\Examples\\Example_2\\Output\\\\rawcube.csv', width=200)\n",
    "read_npv_button = Button(description='Load')\n",
    "read_npv_button.on_click(load_cube_file)\n",
    "\n",
    "display(HBox([npv_file_selector, read_npv_button]))\n",
    "display(HBox([netting_set_selector, trades_selector]))"
   ]
  },
  {
   "cell_type": "markdown",
   "metadata": {
    "collapsed": true,
    "extensions": {
     "jupyter_dashboards": {
      "version": 1,
      "views": {
       "grid_default": {
        "col": 0,
        "height": 4,
        "hidden": true,
        "row": 25,
        "width": 4
       },
       "report_default": {}
      }
     }
    }
   },
   "source": [
    "## NPV Surface"
   ]
  },
  {
   "cell_type": "code",
   "execution_count": null,
   "metadata": {
    "collapsed": false,
    "extensions": {
     "jupyter_dashboards": {
      "version": 1,
      "views": {
       "grid_default": {
        "col": 0,
        "height": 16,
        "hidden": false,
        "row": 9,
        "width": 6
       },
       "report_default": {}
      }
     }
    }
   },
   "outputs": [],
   "source": [
    "%matplotlib notebook\n",
    "import numpy as np\n",
    "\n",
    "import matplotlib\n",
    "import matplotlib.pyplot as plt\n",
    "from mpl_toolkits.mplot3d import Axes3D\n",
    "import numpy as np\n",
    "from matplotlib import cm\n",
    "from enum import Enum\n",
    "from matplotlib.font_manager import FontProperties\n",
    "\n",
    "class ExposureTypes(Enum):\n",
    "    npv = 'NPV'\n",
    "    npvp = 'NPV+'\n",
    "    npvm = 'NPV-'\n",
    "    \n",
    "current_exposure=ExposureTypes.npv\n",
    "\n",
    "npv.calc_density_data(current_trades, current_exposure)\n",
    "fig_surface = plt.figure()\n",
    "ax_surface =fig_surface.add_subplot(111, projection='3d')\n",
    "\n",
    "date_step = 5\n",
    "ax_surface.set_xticks(np.arange(0, len(npv.dates), date_step))\n",
    "ax_surface.set_xticklabels(npv.dates[0::date_step])\n",
    "ax_surface.set_xlabel('Dates')\n",
    "ax_surface.get_yaxis().set_major_formatter(matplotlib.ticker.FuncFormatter(lambda x, p: format(int(x), ',')))\n",
    "ax_surface.set_ylabel(current_exposure.value)\n",
    "\n",
    "X, Y = np.meshgrid(np.arange(len(npv.dates)), npv.dist_space)\n",
    "ax_surface.plot_trisurf(X.flatten(), Y.flatten(), npv.density_values.T.flatten(), cmap=cm.jet, linewidth=0)\n",
    "plt.show()"
   ]
  },
  {
   "cell_type": "markdown",
   "metadata": {
    "extensions": {
     "jupyter_dashboards": {
      "version": 1,
      "views": {
       "grid_default": {
        "col": 4,
        "height": 4,
        "hidden": true,
        "row": 26,
        "width": 4
       },
       "report_default": {}
      }
     }
    }
   },
   "source": [
    "## Time Slider"
   ]
  },
  {
   "cell_type": "code",
   "execution_count": null,
   "metadata": {
    "collapsed": false,
    "extensions": {
     "jupyter_dashboards": {
      "version": 1,
      "views": {
       "grid_default": {
        "col": 0,
        "height": 22,
        "hidden": false,
        "row": 26,
        "width": 12
       },
       "report_default": {}
      }
     }
    }
   },
   "outputs": [],
   "source": [
    "from ipywidgets import IntSlider\n",
    "\n",
    "current_exposure=ExposureTypes.npv\n",
    "npv.calc_density_data(current_trades, current_exposure)\n",
    "\n",
    "fig_surface = plt.figure()\n",
    "ax_time_slider = fig_surface.add_subplot(111)\n",
    "fig_surface.canvas.set_window_title('Time Slider')\n",
    "            \n",
    "def plot_time_slider(change):\n",
    "    date = change['new']\n",
    "    plt.cla()\n",
    "    ax_time_slider.plot(npv.dist_space, npv.density_values[date], color='k', label=current_exposure.value)\n",
    "    ax_time_slider.set_xlim(npv.npv_min, npv.npv_max)\n",
    "    ax_time_slider.set_ylim(0, npv.density_max)\n",
    "    \n",
    "time_slider = IntSlider(min=0, max=len(npv.dates)-1, value=0, description='DateIndex:')\n",
    "time_slider.observe(plot_time_slider, names='value')\n",
    "display(time_slider)\n"
   ]
  },
  {
   "cell_type": "markdown",
   "metadata": {
    "extensions": {
     "jupyter_dashboards": {
      "version": 1,
      "views": {
       "grid_default": {
        "col": 8,
        "height": 4,
        "hidden": true,
        "row": 26,
        "width": 4
       },
       "report_default": {}
      }
     }
    }
   },
   "source": [
    "## Exposure Statistics"
   ]
  },
  {
   "cell_type": "code",
   "execution_count": null,
   "metadata": {
    "collapsed": false,
    "extensions": {
     "jupyter_dashboards": {
      "version": 1,
      "views": {
       "grid_default": {
        "col": 6,
        "height": 17,
        "hidden": false,
        "row": 9,
        "width": 5
       },
       "report_default": {}
      }
     }
    }
   },
   "outputs": [],
   "source": [
    "npv.calc_exposure_statistics(current_trades)\n",
    "fig_statistics = plt.figure()\n",
    "ax_statistics = fig_statistics.add_subplot(111)\n",
    "ax_statistics.plot(range(len(npv.dates)), npv.exposure_statistics['npv'], label='NPV')\n",
    "ax_statistics.plot(range(len(npv.dates)), npv.exposure_statistics['npv+'], label='NPV+')\n",
    "ax_statistics.plot(range(len(npv.dates)), npv.exposure_statistics['npv-'], label='NPV-')\n",
    "ax_statistics.plot(range(len(npv.dates)), npv.exposure_statistics['perc'], label='perc')\n",
    "ax_statistics.get_yaxis().set_major_formatter(matplotlib.ticker.FuncFormatter(lambda x, p: format(int(x), ',')))\n",
    "date_step = 2\n",
    "ax_statistics.set_xticks(np.arange(0, len(npv.dates), date_step))\n",
    "ax_statistics.set_xticklabels(npv.dates[0::date_step], rotation=90)\n",
    "fontP = FontProperties() # set legend outside plot\n",
    "fontP.set_size('small')\n",
    "ax_statistics.legend(loc='upper right', shadow=True, prop=fontP)\n",
    "plt.show()"
   ]
  },
  {
   "cell_type": "code",
   "execution_count": null,
   "metadata": {
    "collapsed": true,
    "extensions": {
     "jupyter_dashboards": {
      "version": 1,
      "views": {
       "grid_default": {
        "hidden": true
       },
       "report_default": {}
      }
     }
    }
   },
   "outputs": [],
   "source": []
  }
 ],
 "metadata": {
  "extensions": {
   "jupyter_dashboards": {
    "activeView": "grid_default",
    "version": 1,
    "views": {
     "grid_default": {
      "cellMargin": 10,
      "defaultCellHeight": 20,
      "maxColumns": 12,
      "name": "grid",
      "type": "grid"
     },
     "report_default": {
      "name": "report",
      "type": "report"
     }
    }
   }
  },
  "kernelspec": {
   "display_name": "Python 3",
   "language": "python",
   "name": "python3"
  },
  "language_info": {
   "codemirror_mode": {
    "name": "ipython",
    "version": 3
   },
   "file_extension": ".py",
   "mimetype": "text/x-python",
   "name": "python",
   "nbconvert_exporter": "python",
   "pygments_lexer": "ipython3",
   "version": "3.5.2"
  },
  "widgets": {
   "state": {
    "09c24d00efe54082876606e1d1d5fe39": {
     "views": [
      {
       "cell_index": 6
      }
     ]
    },
    "12227daf54d1424bb20bf46ac9259ab3": {
     "views": [
      {
       "cell_index": 3
      }
     ]
    },
    "17a29d64b102467ba2a414ba1886c6b7": {
     "views": [
      {
       "cell_index": 3
      }
     ]
    },
    "1ca7c9b512674457abe6994d573a2350": {
     "views": [
      {
       "cell_index": 7
      }
     ]
    },
    "1d7478df8b304c13a5e42cfd73be0ea4": {
     "views": [
      {
       "cell_index": 3
      }
     ]
    },
    "221c58a1077a49be9503542217c2892a": {
     "views": [
      {
       "cell_index": 3
      }
     ]
    },
    "2cedb1158bc848379cc621c37571c051": {
     "views": [
      {
       "cell_index": 6
      }
     ]
    },
    "30f09b35ac2240bfbb5c5cf72fcecdec": {
     "views": [
      {
       "cell_index": 7
      }
     ]
    },
    "3441d854851c47adbe8993bb9b14be02": {
     "views": [
      {
       "cell_index": 6
      }
     ]
    },
    "431e2d131e924e6796ce46a8cce08fdc": {
     "views": [
      {
       "cell_index": 6
      }
     ]
    },
    "4a3478fa667d4bc9958d5e84647c1c4d": {
     "views": [
      {
       "cell_index": 6
      }
     ]
    },
    "6e05223583c74394b15469f5a246b6a1": {
     "views": [
      {
       "cell_index": 6
      }
     ]
    },
    "7617eccc84864dcc920eb885469e3fa5": {
     "views": [
      {
       "cell_index": 3
      }
     ]
    },
    "77437eeac6ae4deb812a11d86a263386": {
     "views": [
      {
       "cell_index": 6
      }
     ]
    },
    "78d82feb9c0f4026af14e05d4eaa5562": {
     "views": [
      {
       "cell_index": 7
      }
     ]
    },
    "7916c90817dd43bb96885cfe36ea3abf": {
     "views": [
      {
       "cell_index": 6
      }
     ]
    },
    "8dbd20d5ffde47629087d55fa8d21675": {
     "views": [
      {
       "cell_index": 7
      }
     ]
    },
    "91b7cc0d33b0424ebfed1966a2f038e7": {
     "views": [
      {
       "cell_index": 3
      }
     ]
    },
    "9eec0c944b024dc7aa12270645bdb7da": {
     "views": [
      {
       "cell_index": 7
      }
     ]
    },
    "a2ef8724e39948fe9b36ea55096ffc80": {
     "views": [
      {
       "cell_index": 6
      }
     ]
    },
    "a431921f513f4ee29b07bc23f6aaacfb": {
     "views": [
      {
       "cell_index": 3
      }
     ]
    },
    "a711a1c552744cf9991ec1fe16374cf7": {
     "views": [
      {
       "cell_index": 6
      }
     ]
    },
    "b5e1821143be463bb726b804fd34a613": {
     "views": [
      {
       "cell_index": 4
      }
     ]
    },
    "c3500e259c3d4db2b0f90516a47a3363": {
     "views": [
      {
       "cell_index": 6
      }
     ]
    },
    "d15e11466a6c4ed4a2dde8b76da43020": {
     "views": [
      {
       "cell_index": 7
      }
     ]
    },
    "d370ff2976c244afb71d45d6e36e6ce5": {
     "views": [
      {
       "cell_index": 6
      }
     ]
    },
    "da4e664e6b514ba59212a6855a4ceb22": {
     "views": [
      {
       "cell_index": 7
      }
     ]
    },
    "dbe043395a634f459a2d1221c9455572": {
     "views": [
      {
       "cell_index": 7
      }
     ]
    },
    "e231cb085575479a85b68330ffaab8f8": {
     "views": [
      {
       "cell_index": 3
      }
     ]
    },
    "efc6fbdea53c4d64aceb9467cce448e4": {
     "views": [
      {
       "cell_index": 7
      }
     ]
    },
    "f1d74e84491a4594b193abd39efab343": {
     "views": [
      {
       "cell_index": 7
      }
     ]
    },
    "f94f5263293d44fc8f236a8adf7eb703": {
     "views": [
      {
       "cell_index": 6
      }
     ]
    },
    "ff771edf5d9b474985925759b3e41c7a": {
     "views": [
      {
       "cell_index": 7
      }
     ]
    },
    "ffdf12f293ba4459ab12908c52b1d994": {
     "views": [
      {
       "cell_index": 10
      }
     ]
    }
   },
   "version": "1.2.0"
  }
 },
 "nbformat": 4,
 "nbformat_minor": 0
}
