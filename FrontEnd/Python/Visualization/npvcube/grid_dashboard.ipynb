{
 "cells": [
  {
   "cell_type": "markdown",
   "metadata": {
    "extensions": {
     "jupyter_dashboards": {
      "version": 1,
      "views": {
       "grid_default": {
        "col": 0,
        "height": 4,
        "hidden": true,
        "row": 20,
        "width": 4
       },
       "report_default": {}
      }
     }
    }
   },
   "source": [
    "# ORE Dashboard"
   ]
  },
  {
   "cell_type": "markdown",
   "metadata": {
    "extensions": {
     "jupyter_dashboards": {
      "version": 1,
      "views": {
       "grid_default": {
        "col": 4,
        "height": 4,
        "hidden": true,
        "row": 26,
        "width": 4
       },
       "report_default": {}
      }
     }
    }
   },
   "source": [
    "Some introduction etc..."
   ]
  },
  {
   "cell_type": "markdown",
   "metadata": {
    "extensions": {
     "jupyter_dashboards": {
      "version": 1,
      "views": {
       "grid_default": {
        "col": 8,
        "height": 4,
        "hidden": true,
        "row": 26,
        "width": 4
       },
       "report_default": {}
      }
     }
    }
   },
   "source": [
    "## Launch ORE"
   ]
  },
  {
   "cell_type": "code",
   "execution_count": null,
   "metadata": {
    "collapsed": false,
    "extensions": {
     "jupyter_dashboards": {
      "version": 1,
      "views": {
       "grid_default": {
        "col": 0,
        "height": 5,
        "hidden": false,
        "row": 0,
        "width": 4
       },
       "report_default": {}
      }
     }
    }
   },
   "outputs": [],
   "source": [
    "from ipywidgets import Text, Button\n",
    "from IPython.display import display\n",
    "import subprocess\n",
    "import os\n",
    "\n",
    "ore_path_selector = Text(description='ORE Path:', value='D:\\\\cppdev\\\\openxva\\\\App\\\\bin\\\\x64\\\\Debug\\\\', width=200)\n",
    "xml_selector = Text(description='XML File:', value='D:\\cppdev\\openxva\\Examples\\Example_2\\Input\\\\ore.xml', width=200)\n",
    "launch_button = Button(description='Launch')\n",
    "\n",
    "npv_cube_filename = \"\"\n",
    "\n",
    "def launch_ore(b):\n",
    "    cwd = os.getcwd() # save directory of the jupyter notebook\n",
    "    print(cwd)\n",
    "    config_path = os.path.dirname(os.path.dirname(xml_selector.value))\n",
    "    os.chdir(config_path) # navigate to ore config folder\n",
    "    print(os.getcwd())\n",
    "    command = [ore_path_selector.value + 'ore.exe', os.path.join(os.path.join(config_path, 'Input'),'ore.xml')]\n",
    "    print(command)\n",
    "    print(\"Starting ORE run... please wait...\")\n",
    "    p = subprocess.Popen(command,\n",
    "        stdin=subprocess.PIPE,\n",
    "        stdout=subprocess.PIPE,\n",
    "        stderr=subprocess.PIPE)\n",
    "    stdout, stderr = p.communicate()\n",
    "    print(stdout)\n",
    "    print(stderr)\n",
    "    cwd = os.getcwd()\n",
    "    os.chdir(cwd) # go back to jupyter notebook\n",
    "    print(\"ORE run successful!\")\n",
    "    npv_cube_filename = os.path.join(os.path.join(config_path, 'Output'),'rawcube.csv')\n",
    "\n",
    "launch_button.on_click(launch_ore)\n",
    "\n",
    "display(ore_path_selector)\n",
    "display(xml_selector)\n",
    "display(launch_button)"
   ]
  },
  {
   "cell_type": "code",
   "execution_count": null,
   "metadata": {
    "collapsed": false,
    "extensions": {
     "jupyter_dashboards": {
      "version": 1,
      "views": {
       "grid_default": {
        "col": 4,
        "height": 4,
        "hidden": true,
        "row": 26,
        "width": 4
       },
       "report_default": {}
      }
     }
    }
   },
   "outputs": [],
   "source": [
    "print(os.getcwd())"
   ]
  },
  {
   "cell_type": "markdown",
   "metadata": {
    "extensions": {
     "jupyter_dashboards": {
      "version": 1,
      "views": {
       "grid_default": {
        "col": 8,
        "height": 4,
        "hidden": true,
        "row": 26,
        "width": 4
       },
       "report_default": {}
      }
     }
    }
   },
   "source": [
    "## Select Netting Sets and Trades"
   ]
  },
  {
   "cell_type": "code",
   "execution_count": null,
   "metadata": {
    "collapsed": false,
    "extensions": {
     "jupyter_dashboards": {
      "version": 1,
      "views": {
       "grid_default": {
        "col": 0,
        "height": 4,
        "hidden": false,
        "row": 5,
        "width": 12
       },
       "report_default": {}
      }
     }
    }
   },
   "outputs": [],
   "source": [
    "print(npv_cube_filename)\n",
    "\n",
    "from risk_dashboard import NpvCube\n",
    "from ipywidgets import SelectMultiple, HBox\n",
    "\n",
    "csv_file = 'cube.csv'\n",
    "npv = NpvCube(csv_file)\n",
    "\n",
    "current_netting_sets = [0]\n",
    "def set_current_netting_sets(netting_sets):\n",
    "    current_netting_sets = netting_sets['new']\n",
    "\n",
    "current_trades = [0]\n",
    "def set_current_trades(trades):\n",
    "    current_trades = trades['new']\n",
    "\n",
    "netting_set_selector = SelectMultiple(options=npv.tradedict, description='Netting Set IDs:')\n",
    "netting_set_selector.observe(set_current_netting_sets, names='value')\n",
    "trades_selector = SelectMultiple(options=npv.tradedict, description='Trade IDs:')\n",
    "trades_selector.observe(set_current_trades, names='value')\n",
    "\n",
    "display(HBox([netting_set_selector, trades_selector]))"
   ]
  },
  {
   "cell_type": "markdown",
   "metadata": {
    "collapsed": true,
    "extensions": {
     "jupyter_dashboards": {
      "version": 1,
      "views": {
       "grid_default": {
        "col": 0,
        "height": 4,
        "hidden": true,
        "row": 25,
        "width": 4
       },
       "report_default": {}
      }
     }
    }
   },
   "source": [
    "## NPV Surface"
   ]
  },
  {
   "cell_type": "code",
   "execution_count": null,
   "metadata": {
    "collapsed": false,
    "extensions": {
     "jupyter_dashboards": {
      "version": 1,
      "views": {
       "grid_default": {
        "col": 0,
        "height": 16,
        "hidden": false,
        "row": 9,
        "width": 6
       },
       "report_default": {}
      }
     }
    }
   },
   "outputs": [],
   "source": [
    "%matplotlib notebook\n",
    "import matplotlib\n",
    "import matplotlib.pyplot as plt\n",
    "from mpl_toolkits.mplot3d import Axes3D\n",
    "import numpy as np\n",
    "from matplotlib import cm\n",
    "from enum import Enum\n",
    "from matplotlib.font_manager import FontProperties\n",
    "\n",
    "class ExposureTypes(Enum):\n",
    "    npv = 'NPV'\n",
    "    npvp = 'NPV+'\n",
    "    npvm = 'NPV-'\n",
    "    \n",
    "current_exposure=ExposureTypes.npv\n",
    "\n",
    "npv.calc_density_data(current_trades, current_exposure)\n",
    "fig_surface = plt.figure()\n",
    "ax_surface =fig_surface.add_subplot(111, projection='3d')\n",
    "\n",
    "date_step = 5\n",
    "ax_surface.set_xticks(np.arange(0, len(npv.dates), date_step))\n",
    "ax_surface.set_xticklabels(npv.dates[0::date_step])\n",
    "ax_surface.set_xlabel('Dates')\n",
    "ax_surface.get_yaxis().set_major_formatter(matplotlib.ticker.FuncFormatter(lambda x, p: format(int(x), ',')))\n",
    "ax_surface.set_ylabel(current_exposure.value)\n",
    "\n",
    "X, Y = np.meshgrid(np.arange(len(npv.dates)), npv.dist_space)\n",
    "ax_surface.plot_trisurf(X.flatten(), Y.flatten(), npv.density_values.T.flatten(), cmap=cm.jet, linewidth=0)\n",
    "plt.show()"
   ]
  },
  {
   "cell_type": "markdown",
   "metadata": {
    "extensions": {
     "jupyter_dashboards": {
      "version": 1,
      "views": {
       "grid_default": {
        "col": 4,
        "height": 4,
        "hidden": true,
        "row": 26,
        "width": 4
       },
       "report_default": {}
      }
     }
    }
   },
   "source": [
    "## Time Slider"
   ]
  },
  {
   "cell_type": "code",
   "execution_count": null,
   "metadata": {
    "collapsed": false,
    "extensions": {
     "jupyter_dashboards": {
      "version": 1,
      "views": {
       "grid_default": {
        "col": 0,
        "height": 22,
        "hidden": false,
        "row": 26,
        "width": 12
       },
       "report_default": {}
      }
     }
    }
   },
   "outputs": [],
   "source": [
    "from ipywidgets import IntSlider\n",
    "\n",
    "current_exposure=ExposureTypes.npv\n",
    "npv.calc_density_data(current_trades, current_exposure)\n",
    "\n",
    "fig_surface = plt.figure()\n",
    "ax_time_slider = fig_surface.add_subplot(111)\n",
    "fig_surface.canvas.set_window_title('Time Slider')\n",
    "            \n",
    "def plot_time_slider(change):\n",
    "    date = change['new']\n",
    "    plt.cla()\n",
    "    ax_time_slider.plot(npv.dist_space, npv.density_values[date], color='k', label=current_exposure.value)\n",
    "    ax_time_slider.set_xlim(npv.npv_min, npv.npv_max)\n",
    "    ax_time_slider.set_ylim(0, npv.density_max)\n",
    "    \n",
    "time_slider = IntSlider(min=0, max=len(npv.dates)-1, value=0, description='DateIndex:')\n",
    "time_slider.observe(plot_time_slider, names='value')\n",
    "display(time_slider)\n"
   ]
  },
  {
   "cell_type": "markdown",
   "metadata": {
    "extensions": {
     "jupyter_dashboards": {
      "version": 1,
      "views": {
       "grid_default": {
        "col": 8,
        "height": 4,
        "hidden": true,
        "row": 26,
        "width": 4
       },
       "report_default": {}
      }
     }
    }
   },
   "source": [
    "## Exposure Statistics"
   ]
  },
  {
   "cell_type": "code",
   "execution_count": null,
   "metadata": {
    "collapsed": false,
    "extensions": {
     "jupyter_dashboards": {
      "version": 1,
      "views": {
       "grid_default": {
        "col": 6,
        "height": 17,
        "hidden": false,
        "row": 9,
        "width": 5
       },
       "report_default": {}
      }
     }
    }
   },
   "outputs": [],
   "source": [
    "npv.calc_exposure_statistics(current_trades)\n",
    "fig_statistics = plt.figure()\n",
    "ax_statistics = fig_statistics.add_subplot(111)\n",
    "ax_statistics.plot(range(len(npv.dates)), npv.exposure_statistics['npv'], label='NPV')\n",
    "ax_statistics.plot(range(len(npv.dates)), npv.exposure_statistics['npv+'], label='NPV+')\n",
    "ax_statistics.plot(range(len(npv.dates)), npv.exposure_statistics['npv-'], label='NPV-')\n",
    "ax_statistics.plot(range(len(npv.dates)), npv.exposure_statistics['perc'], label='perc')\n",
    "ax_statistics.get_yaxis().set_major_formatter(matplotlib.ticker.FuncFormatter(lambda x, p: format(int(x), ',')))\n",
    "date_step = 2\n",
    "ax_statistics.set_xticks(np.arange(0, len(npv.dates), date_step))\n",
    "ax_statistics.set_xticklabels(npv.dates[0::date_step], rotation=90)\n",
    "fontP = FontProperties() # set legend outside plot\n",
    "fontP.set_size('small')\n",
    "ax_statistics.legend(loc='upper right', shadow=True, prop=fontP)\n",
    "plt.show()"
   ]
  },
  {
   "cell_type": "code",
   "execution_count": null,
   "metadata": {
    "collapsed": true,
    "extensions": {
     "jupyter_dashboards": {
      "version": 1,
      "views": {
       "grid_default": {
        "hidden": true
       },
       "report_default": {}
      }
     }
    }
   },
   "outputs": [],
   "source": []
  }
 ],
 "metadata": {
  "extensions": {
   "jupyter_dashboards": {
    "activeView": "grid_default",
    "version": 1,
    "views": {
     "grid_default": {
      "cellMargin": 10,
      "defaultCellHeight": 20,
      "maxColumns": 12,
      "name": "grid",
      "type": "grid"
     },
     "report_default": {
      "name": "report",
      "type": "report"
     }
    }
   }
  },
  "kernelspec": {
   "display_name": "Python 3",
   "language": "python",
   "name": "python3"
  },
  "language_info": {
   "codemirror_mode": {
    "name": "ipython",
    "version": 3
   },
   "file_extension": ".py",
   "mimetype": "text/x-python",
   "name": "python",
   "nbconvert_exporter": "python",
   "pygments_lexer": "ipython3",
   "version": "3.5.2"
  },
  "widgets": {
   "state": {
    "1d7478df8b304c13a5e42cfd73be0ea4": {
     "views": [
      {
       "cell_index": 3
      }
     ]
    },
    "221c58a1077a49be9503542217c2892a": {
     "views": [
      {
       "cell_index": 3
      }
     ]
    },
    "431e2d131e924e6796ce46a8cce08fdc": {
     "views": [
      {
       "cell_index": 6
      }
     ]
    },
    "7617eccc84864dcc920eb885469e3fa5": {
     "views": [
      {
       "cell_index": 3
      }
     ]
    },
    "8b3dd277b73c45f9aea4c9bff3a7fb29": {
     "views": [
      {
       "cell_index": 3
      }
     ]
    },
    "91b7cc0d33b0424ebfed1966a2f038e7": {
     "views": [
      {
       "cell_index": 3
      }
     ]
    },
    "980d5ce5d86349b5b3f630f7e072ee1a": {
     "views": [
      {
       "cell_index": 6
      }
     ]
    },
    "b06b9df453974626932e7fb2aa74808c": {
     "views": [
      {
       "cell_index": 3
      }
     ]
    },
    "b5e1821143be463bb726b804fd34a613": {
     "views": [
      {
       "cell_index": 4
      }
     ]
    },
    "e231cb085575479a85b68330ffaab8f8": {
     "views": [
      {
       "cell_index": 3
      }
     ]
    },
    "ffdf12f293ba4459ab12908c52b1d994": {
     "views": [
      {
       "cell_index": 10
      }
     ]
    }
   },
   "version": "1.2.0"
  }
 },
 "nbformat": 4,
 "nbformat_minor": 0
}
