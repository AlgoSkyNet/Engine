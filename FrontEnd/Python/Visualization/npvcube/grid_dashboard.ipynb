{
 "cells": [
  {
   "cell_type": "markdown",
   "metadata": {
    "extensions": {
     "jupyter_dashboards": {
      "version": 1,
      "views": {
       "grid_default": {
        "col": 0,
        "height": 4,
        "hidden": true,
        "row": 20,
        "width": 4
       },
       "report_default": {}
      }
     }
    }
   },
   "source": [
    "# ORE Dashboard"
   ]
  },
  {
   "cell_type": "markdown",
   "metadata": {
    "extensions": {
     "jupyter_dashboards": {
      "version": 1,
      "views": {
       "grid_default": {
        "col": 4,
        "height": 4,
        "hidden": true,
        "row": 26,
        "width": 4
       },
       "report_default": {}
      }
     }
    }
   },
   "source": [
    "Some introduction etc..."
   ]
  },
  {
   "cell_type": "markdown",
   "metadata": {
    "extensions": {
     "jupyter_dashboards": {
      "version": 1,
      "views": {
       "grid_default": {
        "col": 8,
        "height": 4,
        "hidden": true,
        "row": 26,
        "width": 4
       },
       "report_default": {}
      }
     }
    }
   },
   "source": [
    "## Launch ORE"
   ]
  },
  {
   "cell_type": "code",
   "execution_count": null,
   "metadata": {
    "collapsed": false,
    "extensions": {
     "jupyter_dashboards": {
      "version": 1,
      "views": {
       "grid_default": {
        "col": 0,
        "height": 5,
        "hidden": false,
        "row": 0,
        "width": 12
       },
       "report_default": {}
      }
     }
    }
   },
   "outputs": [],
   "source": [
    "from ipywidgets import Text, Button\n",
    "from IPython.display import display\n",
    "import subprocess\n",
    "import os\n",
    "\n",
    "ore_path_selector = Text(description='ORE Path:', value='D:\\\\cppdev\\\\openxva\\\\App\\\\bin\\\\x64\\\\Debug\\\\', width=200)\n",
    "xml_selector = Text(description='XML File:', value='D:\\cppdev\\openxva\\Examples\\Example_3\\Input\\\\ore.xml', width=200)\n",
    "launch_button = Button(description='Launch')\n",
    "\n",
    "npv_cube_filename = \"\"\n",
    "\n",
    "def launch_ore(b):\n",
    "    cwd = os.getcwd() # save directory of the jupyter notebook\n",
    "    print(cwd)\n",
    "    config_path = os.path.dirname(os.path.dirname(xml_selector.value))\n",
    "    os.chdir(config_path) # navigate to ore config folder\n",
    "    print(os.getcwd())\n",
    "    command = [ore_path_selector.value + 'ore.exe', os.path.join(os.path.join(config_path, 'Input'),'ore.xml')]\n",
    "    print(command)\n",
    "    print(\"Starting ORE run... please wait...\")\n",
    "    p = subprocess.Popen(command,\n",
    "        stdin=subprocess.PIPE,\n",
    "        stdout=subprocess.PIPE,\n",
    "        stderr=subprocess.PIPE)\n",
    "    stdout, stderr = p.communicate()\n",
    "    print(stdout)\n",
    "    print(stderr)\n",
    "    cwd = os.getcwd()\n",
    "    os.chdir(cwd) # go back to jupyter notebook\n",
    "    print(\"ORE run successful!\")\n",
    "    npv_cube_filename = os.path.join(os.path.join(config_path, 'Output'),'rawcube.csv')\n",
    "\n",
    "launch_button.on_click(launch_ore)\n",
    "\n",
    "display(ore_path_selector)\n",
    "display(xml_selector)\n",
    "display(launch_button)"
   ]
  },
  {
   "cell_type": "code",
   "execution_count": null,
   "metadata": {
    "collapsed": false,
    "extensions": {
     "jupyter_dashboards": {
      "version": 1,
      "views": {
       "grid_default": {
        "col": 4,
        "height": 4,
        "hidden": true,
        "row": 26,
        "width": 4
       },
       "report_default": {}
      }
     }
    }
   },
   "outputs": [],
   "source": [
    "print(os.getcwd())"
   ]
  },
  {
   "cell_type": "markdown",
   "metadata": {
    "extensions": {
     "jupyter_dashboards": {
      "version": 1,
      "views": {
       "grid_default": {
        "col": 8,
        "height": 4,
        "hidden": true,
        "row": 26,
        "width": 4
       },
       "report_default": {}
      }
     }
    }
   },
   "source": [
    "## Select Netting Sets and Trades"
   ]
  },
  {
   "cell_type": "code",
   "execution_count": null,
   "metadata": {
    "collapsed": false,
    "extensions": {
     "jupyter_dashboards": {
      "version": 1,
      "views": {
       "grid_default": {
        "col": 0,
        "height": 8,
        "hidden": false,
        "row": 5,
        "width": 12
       },
       "report_default": {}
      }
     }
    }
   },
   "outputs": [],
   "source": [
    "print(npv_cube_filename)\n",
    "\n",
    "import pandas as pd       \n",
    "\n",
    "from ipywidgets import Select, SelectMultiple, HBox\n",
    "\n",
    "current_netting_sets = [0]\n",
    "def set_current_netting_sets(netting_sets):\n",
    "    current_netting_sets = netting_sets['new']\n",
    "\n",
    "current_trades = [0]\n",
    "def set_current_trades(trades):\n",
    "    current_trades = trades['new']\n",
    "\n",
    "netting_set_selector = Select(description='Netting Sets:')\n",
    "trades_selector = SelectMultiple(description='Trades:')\n",
    "netting_set_selector.observe(set_current_netting_sets, names='value')\n",
    "trades_selector.observe(set_current_trades, names='value')\n",
    "def load_cube_file(b):\n",
    "    csv_file = npv_file_selector.value\n",
    "    global df\n",
    "    df = pd.read_csv(csv_file)\n",
    "    df.columns = ['Id', 'NettingSet', 'DateIndex' , 'Date', 'Sample', 'Value']\n",
    "    netting_set_selector.options = list(df.NettingSet.unique())\n",
    "    trades_selector.options = list(df.Id.unique())\n",
    "\n",
    "npv_file_selector = Text(description='Cube File:', value='D:\\cppdev\\openxva\\Examples\\Example_2\\Output\\\\rawcube.csv', width=200)\n",
    "read_npv_button = Button(description='Load')\n",
    "read_npv_button.on_click(load_cube_file)\n",
    "\n",
    "display(HBox([npv_file_selector, read_npv_button]))\n",
    "display(HBox([netting_set_selector, trades_selector]))"
   ]
  },
  {
   "cell_type": "markdown",
   "metadata": {
    "collapsed": true,
    "extensions": {
     "jupyter_dashboards": {
      "version": 1,
      "views": {
       "grid_default": {
        "col": 0,
        "height": 4,
        "hidden": true,
        "row": 25,
        "width": 4
       },
       "report_default": {}
      }
     }
    }
   },
   "source": [
    "## Configure Exposure Statistics"
   ]
  },
  {
   "cell_type": "code",
   "execution_count": null,
   "metadata": {
    "collapsed": false,
    "extensions": {
     "jupyter_dashboards": {
      "version": 1,
      "views": {
       "grid_default": {
        "col": 0,
        "height": 4,
        "hidden": false,
        "row": 13,
        "width": 12
       },
       "report_default": {}
      }
     }
    }
   },
   "outputs": [],
   "source": [
    "import numpy as np\n",
    "\n",
    "from ipywidgets import RadioButtons, FloatSlider\n",
    "\n",
    "%matplotlib notebook\n",
    "import matplotlib\n",
    "import matplotlib.pyplot as plt\n",
    "from mpl_toolkits.mplot3d import Axes3D\n",
    "from matplotlib import cm\n",
    "from enum import Enum\n",
    "from matplotlib.font_manager import FontProperties\n",
    "\n",
    "class ExposureTypes(Enum):\n",
    "    EE = 'EE'\n",
    "    EPE = 'EPE'\n",
    "    ENE = 'ENE'\n",
    "    PFE = 'PFE'\n",
    "    \n",
    "exposure_selector = RadioButtons(description='Exposure Type:', options=[member.value for name,member in ExposureTypes.__members__.items()])\n",
    "percentile_selector = FloatSlider(min=90, max=100, value=95, description='PFE Percentile:')\n",
    "\n",
    "display(HBox([exposure_selector, percentile_selector]))"
   ]
  },
  {
   "cell_type": "markdown",
   "metadata": {
    "extensions": {
     "jupyter_dashboards": {
      "version": 1,
      "views": {
       "grid_default": {
        "col": 4,
        "height": 4,
        "hidden": true,
        "row": 0,
        "width": 4
       },
       "report_default": {}
      }
     }
    }
   },
   "source": [
    "## Plot Exposure Surface"
   ]
  },
  {
   "cell_type": "code",
   "execution_count": null,
   "metadata": {
    "collapsed": false,
    "extensions": {
     "jupyter_dashboards": {
      "version": 1,
      "views": {
       "grid_default": {
        "col": 0,
        "height": 19,
        "hidden": false,
        "row": 17,
        "width": 12
       },
       "report_default": {}
      }
     }
    }
   },
   "outputs": [],
   "source": [
    "from scipy.stats.kde import gaussian_kde\n",
    "from numpy.linalg.linalg import LinAlgError\n",
    "\n",
    "# sum values over selected trades in netting set\n",
    "df_surface = df[(df.NettingSet == netting_set_selector.value) & df.Id.isin(trades_selector.value)][['Id', 'Value', 'Sample', 'DateIndex']].groupby(['DateIndex','Sample']).sum().reset_index()\n",
    "# truncate for EPE or ENE\n",
    "if ExposureTypes(exposure_selector.value) == ExposureTypes.EPE:\n",
    "    df_surface.loc[df_surface['Value']<0,'Value']=0\n",
    "elif ExposureTypes(exposure_selector.value) == ExposureTypes.ENE:\n",
    "    df_surface.loc[df_surface['Value']>0,'Value']=0\n",
    "\n",
    "# for each date index, calculate densities of distribution of values\n",
    "grid_size = 50\n",
    "npv_min = df_surface.Value.min()\n",
    "npv_max = df_surface.Value.max()\n",
    "dist_space = np.linspace(npv_min, npv_max, grid_size)\n",
    "num_dates = len(df_surface.DateIndex.unique())\n",
    "density_values = np.zeros((num_dates, grid_size))\n",
    "for k in range(num_dates):\n",
    "    row = df_surface.loc[df_surface['DateIndex']==k, 'Value'].values\n",
    "    try:\n",
    "        density = gaussian_kde(row)\n",
    "        density_values[k] = density(dist_space)\n",
    "    except:\n",
    "        density_values[k] = np.zeros(grid_size)\n",
    "density_max = np.max(density_values)\n",
    "\n",
    "fig_surface = plt.figure()\n",
    "ax_surface =fig_surface.add_subplot(111, projection='3d')\n",
    "\n",
    "date_step = 5\n",
    "#ax_surface.set_xticks(np.arange(0, num_dates, date_step))\n",
    "#ax_surface.set_xticklabels(npv.dates[0::date_step])\n",
    "#ax_surface.set_xlabel('Dates')\n",
    "#ax_surface.get_yaxis().set_major_formatter(matplotlib.ticker.FuncFormatter(lambda x, p: format(int(x), ',')))\n",
    "#ax_surface.set_ylabel(current_exposure.value)\n",
    "\n",
    "X, Y = np.meshgrid(np.arange(num_dates), dist_space)\n",
    "ax_surface.plot_trisurf(X.flatten(), Y.flatten(), density_values.T.flatten(), cmap=cm.jet, linewidth=0)\n",
    "plt.show()"
   ]
  },
  {
   "cell_type": "markdown",
   "metadata": {
    "extensions": {
     "jupyter_dashboards": {
      "version": 1,
      "views": {
       "grid_default": {
        "col": 4,
        "height": 4,
        "hidden": true,
        "row": 26,
        "width": 4
       },
       "report_default": {}
      }
     }
    }
   },
   "source": [
    "## Time Slider"
   ]
  },
  {
   "cell_type": "code",
   "execution_count": null,
   "metadata": {
    "collapsed": false,
    "extensions": {
     "jupyter_dashboards": {
      "version": 1,
      "views": {
       "grid_default": {
        "col": 0,
        "height": 22,
        "hidden": false,
        "row": 36,
        "width": 12
       },
       "report_default": {}
      }
     }
    }
   },
   "outputs": [],
   "source": [
    "from ipywidgets import IntSlider\n",
    "\n",
    "fig_surface = plt.figure()\n",
    "ax_time_slider = fig_surface.add_subplot(111)\n",
    "fig_surface.canvas.set_window_title('Time Slider')\n",
    "            \n",
    "def plot_time_slider(change):\n",
    "    date = change['new']\n",
    "    plt.cla()\n",
    "    ax_time_slider.plot(dist_space, density_values[date], color='k', label=exposure_selector.value)\n",
    "    ax_time_slider.set_xlim(npv_min, npv_max)\n",
    "    ax_time_slider.set_ylim(0, density_max)\n",
    "    \n",
    "time_slider = IntSlider(min=0, max=num_dates, value=0, description='DateIndex:')\n",
    "time_slider.observe(plot_time_slider, names='value')\n",
    "display(time_slider)\n"
   ]
  },
  {
   "cell_type": "markdown",
   "metadata": {
    "extensions": {
     "jupyter_dashboards": {
      "version": 1,
      "views": {
       "grid_default": {
        "col": 8,
        "height": 4,
        "hidden": true,
        "row": 26,
        "width": 4
       },
       "report_default": {}
      }
     }
    }
   },
   "source": [
    "## Exposure Statistics"
   ]
  },
  {
   "cell_type": "code",
   "execution_count": null,
   "metadata": {
    "collapsed": false,
    "extensions": {
     "jupyter_dashboards": {
      "version": 1,
      "views": {
       "grid_default": {
        "col": 0,
        "height": 19,
        "hidden": false,
        "row": 58,
        "width": 12
       },
       "report_default": {}
      }
     }
    }
   },
   "outputs": [],
   "source": [
    "df_stats = df[(df.NettingSet == netting_set_selector.value) & df.Id.isin(trades_selector.value)][['Id', 'Value', 'Sample', 'DateIndex']].groupby(['DateIndex','Sample']).sum().reset_index()\n",
    "df_epe = df_stats.copy()\n",
    "df_ene = df_stats.copy()\n",
    "\n",
    "df_epe.loc[df_epe['Value']<0,'Value']=0\n",
    "df_ene.loc[df_ene['Value']>0,'Value']=0\n",
    "\n",
    "ee = df_stats[['DateIndex', 'Value']].groupby('DateIndex').mean().values[:,0]\n",
    "epe = df_epe[['DateIndex', 'Value']].groupby('DateIndex').mean().values[:,0]\n",
    "ene = df_ene[['DateIndex', 'Value']].groupby('DateIndex').mean().values[:,0]\n",
    "pfe = df_stats[['DateIndex', 'Value']].groupby('DateIndex').quantile(0.95).values[:,0]"
   ]
  },
  {
   "cell_type": "code",
   "execution_count": null,
   "metadata": {
    "collapsed": false
   },
   "outputs": [],
   "source": [
    "fig_statistics = plt.figure()\n",
    "ax_statistics = fig_statistics.add_subplot(111)\n",
    "ax_statistics.plot(range(num_dates), ee, label=ExposureTypes.EE.value)\n",
    "ax_statistics.plot(range(num_dates), epe, label=ExposureTypes.EPE.value)\n",
    "ax_statistics.plot(range(num_dates), ene, label=ExposureTypes.ENE.value)\n",
    "ax_statistics.plot(range(num_dates), pfe, label=ExposureTypes.PFE.value)\n",
    "ax_statistics.get_yaxis().set_major_formatter(matplotlib.ticker.FuncFormatter(lambda x, p: format(int(x), ',')))\n",
    "date_step = 2\n",
    "ax_statistics.set_xticks(np.arange(0, num_dates, date_step))\n",
    "#x_statistics.set_xticklabels(npv.dates[0::date_step], rotation=90)\n",
    "fontP = FontProperties() # set legend outside plot\n",
    "fontP.set_size('small')\n",
    "ax_statistics.legend(loc='upper right', shadow=True, prop=fontP)\n",
    "plt.show()"
   ]
  },
  {
   "cell_type": "code",
   "execution_count": null,
   "metadata": {
    "collapsed": false,
    "extensions": {
     "jupyter_dashboards": {
      "version": 1,
      "views": {
       "grid_default": {
        "hidden": true
       },
       "report_default": {}
      }
     }
    }
   },
   "outputs": [],
   "source": [
    "import bqplot as bq\n",
    "xs = bq.LinearScale()\n",
    "ys = bq.LinearScale()\n",
    "x = range(num_dates)\n",
    "y = np.vstack((ee,epe,ene,pfe))\n",
    "\n",
    "line = bq.Lines(x=x, y=y, scales={'x': xs, 'y': ys}, display_legend=True, labels=['EE','EPE', 'ENE', 'PFE'])\n",
    "xax = bq.Axis(scale=xs, label='time', grid_lines='solid')\n",
    "yax = bq.Axis(scale=ys, orientation='vertical', tick_format='0.2f', label='exposure', grid_lines='solid')\n",
    "\n",
    "fig = bq.Figure(marks=[line], axes=[xax, yax], animation_duration=1000)\n",
    "display(fig)"
   ]
  },
  {
   "cell_type": "code",
   "execution_count": null,
   "metadata": {
    "collapsed": true
   },
   "outputs": [],
   "source": []
  }
 ],
 "metadata": {
  "extensions": {
   "jupyter_dashboards": {
    "activeView": "grid_default",
    "version": 1,
    "views": {
     "grid_default": {
      "cellMargin": 10,
      "defaultCellHeight": 20,
      "maxColumns": 12,
      "name": "grid",
      "type": "grid"
     },
     "report_default": {
      "name": "report",
      "type": "report"
     }
    }
   }
  },
  "kernelspec": {
   "display_name": "Python 3",
   "language": "python",
   "name": "python3"
  },
  "language_info": {
   "codemirror_mode": {
    "name": "ipython",
    "version": 3
   },
   "file_extension": ".py",
   "mimetype": "text/x-python",
   "name": "python",
   "nbconvert_exporter": "python",
   "pygments_lexer": "ipython3",
   "version": "3.5.2"
  },
  "widgets": {
   "state": {
    "05741624873448e5964e9c2bf08ebaf5": {
     "views": [
      {
       "cell_index": 16
      }
     ]
    },
    "05cf2a1f6bf442aa9f292e0489253331": {
     "views": [
      {
       "cell_index": 3
      }
     ]
    },
    "09c24d00efe54082876606e1d1d5fe39": {
     "views": [
      {
       "cell_index": 6
      }
     ]
    },
    "0b379196cb3e408195b2a3bb7d5c4f44": {
     "views": [
      {
       "cell_index": 6
      }
     ]
    },
    "0de4a19dbe734e01915b3130eeb31f63": {
     "views": [
      {
       "cell_index": 6
      }
     ]
    },
    "10e95a38f7e541e98c7db34386ece7d6": {
     "views": [
      {
       "cell_index": 6
      }
     ]
    },
    "12227daf54d1424bb20bf46ac9259ab3": {
     "views": [
      {
       "cell_index": 3
      }
     ]
    },
    "1d7478df8b304c13a5e42cfd73be0ea4": {
     "views": [
      {
       "cell_index": 3
      }
     ]
    },
    "1daa3f0e88094ef09a327985b114f759": {
     "views": [
      {
       "cell_index": 3
      }
     ]
    },
    "1f14cb8e008249dd9fba7778082826b8": {
     "views": [
      {
       "cell_index": 6
      }
     ]
    },
    "221c58a1077a49be9503542217c2892a": {
     "views": [
      {
       "cell_index": 3
      }
     ]
    },
    "2cedb1158bc848379cc621c37571c051": {
     "views": [
      {
       "cell_index": 6
      }
     ]
    },
    "2e177a2b293c437d95a17fd1fc5b3e7a": {
     "views": [
      {
       "cell_index": 6
      }
     ]
    },
    "30f09b35ac2240bfbb5c5cf72fcecdec": {
     "views": [
      {
       "cell_index": 7
      }
     ]
    },
    "31f244ff0ab7456385719662d25cf7d1": {
     "views": [
      {
       "cell_index": 6
      }
     ]
    },
    "3441d854851c47adbe8993bb9b14be02": {
     "views": [
      {
       "cell_index": 6
      }
     ]
    },
    "36c8bf56122942feadbb060983070e13": {
     "views": [
      {
       "cell_index": 3
      }
     ]
    },
    "3e4f742d1d2b47e9953cf1a379502f47": {
     "views": [
      {
       "cell_index": 6
      }
     ]
    },
    "431e2d131e924e6796ce46a8cce08fdc": {
     "views": [
      {
       "cell_index": 6
      }
     ]
    },
    "4a3478fa667d4bc9958d5e84647c1c4d": {
     "views": [
      {
       "cell_index": 6
      }
     ]
    },
    "4f96ff930e884822bba68230c224429d": {
     "views": [
      {
       "cell_index": 3
      }
     ]
    },
    "5c646fa245cf42ecabcfd22b349deb62": {
     "views": [
      {
       "cell_index": 3
      }
     ]
    },
    "5de9241776994b94a082c8d7e9bb32bb": {
     "views": [
      {
       "cell_index": 6
      }
     ]
    },
    "600cfc922ac141abbd7321d4df882e63": {
     "views": [
      {
       "cell_index": 12
      }
     ]
    },
    "6687d4c15366476b883e4c95b0fab101": {
     "views": [
      {
       "cell_index": 9
      }
     ]
    },
    "6e05223583c74394b15469f5a246b6a1": {
     "views": [
      {
       "cell_index": 6
      }
     ]
    },
    "6f62664e58394d35806df89b232dbd2b": {
     "views": [
      {
       "cell_index": 3
      }
     ]
    },
    "759b9e11a3494ecd8eca16547d25a2e1": {
     "views": [
      {
       "cell_index": 6
      }
     ]
    },
    "7617eccc84864dcc920eb885469e3fa5": {
     "views": [
      {
       "cell_index": 3
      }
     ]
    },
    "77437eeac6ae4deb812a11d86a263386": {
     "views": [
      {
       "cell_index": 6
      }
     ]
    },
    "77b799b3a867466aa893130e6f8725ab": {
     "views": [
      {
       "cell_index": 6
      }
     ]
    },
    "78a862253c8e4ff9abae39077da921a8": {
     "views": [
      {
       "cell_index": 3
      }
     ]
    },
    "78d82feb9c0f4026af14e05d4eaa5562": {
     "views": [
      {
       "cell_index": 7
      }
     ]
    },
    "7916c90817dd43bb96885cfe36ea3abf": {
     "views": [
      {
       "cell_index": 6
      }
     ]
    },
    "804be0b02e1b4aa3bc51853c3fa48a7b": {
     "views": [
      {
       "cell_index": 6
      }
     ]
    },
    "8582d344414c48e8b318465f566815e5": {
     "views": [
      {
       "cell_index": 3
      }
     ]
    },
    "8dbd20d5ffde47629087d55fa8d21675": {
     "views": [
      {
       "cell_index": 7
      }
     ]
    },
    "8dcdfb5c615e488182840923dcda6fc8": {
     "views": [
      {
       "cell_index": 6
      }
     ]
    },
    "91b7cc0d33b0424ebfed1966a2f038e7": {
     "views": [
      {
       "cell_index": 3
      }
     ]
    },
    "9d454e77c5ee43a6a1d242ec26f3f776": {
     "views": [
      {
       "cell_index": 8
      }
     ]
    },
    "9eec0c944b024dc7aa12270645bdb7da": {
     "views": [
      {
       "cell_index": 7
      }
     ]
    },
    "a2ef8724e39948fe9b36ea55096ffc80": {
     "views": [
      {
       "cell_index": 6
      }
     ]
    },
    "a375bbcf6ecf46d986ffb9511067e3bc": {
     "views": [
      {
       "cell_index": 3
      }
     ]
    },
    "a711a1c552744cf9991ec1fe16374cf7": {
     "views": [
      {
       "cell_index": 6
      }
     ]
    },
    "b5e1821143be463bb726b804fd34a613": {
     "views": [
      {
       "cell_index": 4
      }
     ]
    },
    "b65de5143b9a4e4993f3045442ffe3e0": {
     "views": [
      {
       "cell_index": 9
      }
     ]
    },
    "c3500e259c3d4db2b0f90516a47a3363": {
     "views": [
      {
       "cell_index": 6
      }
     ]
    },
    "d0e43576072945db87cc43795f0842f1": {
     "views": [
      {
       "cell_index": 6
      }
     ]
    },
    "d15e11466a6c4ed4a2dde8b76da43020": {
     "views": [
      {
       "cell_index": 7
      }
     ]
    },
    "d362da5897be4682b375da7223de24a9": {
     "views": [
      {
       "cell_index": 6
      }
     ]
    },
    "d370ff2976c244afb71d45d6e36e6ce5": {
     "views": [
      {
       "cell_index": 6
      }
     ]
    },
    "d3f0325d642041dc905c17b61bf93e81": {
     "views": [
      {
       "cell_index": 6
      }
     ]
    },
    "d6489a2f7e79462ebacf0fadcb7f1dbc": {
     "views": [
      {
       "cell_index": 6
      }
     ]
    },
    "da4e664e6b514ba59212a6855a4ceb22": {
     "views": [
      {
       "cell_index": 7
      }
     ]
    },
    "dbe043395a634f459a2d1221c9455572": {
     "views": [
      {
       "cell_index": 7
      }
     ]
    },
    "e00af17eb02047a899f896bc64887309": {
     "views": [
      {
       "cell_index": 6
      }
     ]
    },
    "e231cb085575479a85b68330ffaab8f8": {
     "views": [
      {
       "cell_index": 3
      }
     ]
    },
    "e2584dadb6f14a30b41e040cf02970e2": {
     "views": [
      {
       "cell_index": 3
      }
     ]
    },
    "ec5a8edd1d304d9aa6a08cb427bb1dd2": {
     "views": [
      {
       "cell_index": 6
      }
     ]
    },
    "ef5ba001570745e8910cc6477fd8e061": {
     "views": [
      {
       "cell_index": 3
      }
     ]
    },
    "efc6fbdea53c4d64aceb9467cce448e4": {
     "views": [
      {
       "cell_index": 7
      }
     ]
    },
    "f1d74e84491a4594b193abd39efab343": {
     "views": [
      {
       "cell_index": 7
      }
     ]
    },
    "f418089eceee47f897c577f9e5d416d6": {
     "views": [
      {
       "cell_index": 6
      }
     ]
    },
    "f94f5263293d44fc8f236a8adf7eb703": {
     "views": [
      {
       "cell_index": 6
      }
     ]
    },
    "ff771edf5d9b474985925759b3e41c7a": {
     "views": [
      {
       "cell_index": 7
      }
     ]
    }
   },
   "version": "1.2.0"
  }
 },
 "nbformat": 4,
 "nbformat_minor": 0
}
