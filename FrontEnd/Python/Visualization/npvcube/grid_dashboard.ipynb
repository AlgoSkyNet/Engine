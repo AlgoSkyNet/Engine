{
 "cells": [
  {
   "cell_type": "markdown",
   "metadata": {
    "extensions": {
     "jupyter_dashboards": {
      "version": 1,
      "views": {
       "grid_default": {
        "col": 0,
        "height": 4,
        "hidden": true,
        "row": 20,
        "width": 4
       },
       "report_default": {}
      }
     }
    }
   },
   "source": [
    "# ORE Jupyter Dashboard"
   ]
  },
  {
   "cell_type": "markdown",
   "metadata": {
    "extensions": {
     "jupyter_dashboards": {
      "version": 1,
      "views": {
       "grid_default": {
        "col": 4,
        "height": 4,
        "hidden": true,
        "row": 26,
        "width": 4
       },
       "report_default": {}
      }
     }
    }
   },
   "source": [
    "Some introduction etc...\n",
    "\n",
    "This dashboard assumes a standard installation of Anaconda Python 3, see:\n",
    "https://www.continuum.io/downloads\n",
    "\n",
    "Some plots require more dependencies, see below."
   ]
  },
  {
   "cell_type": "markdown",
   "metadata": {
    "extensions": {
     "jupyter_dashboards": {
      "version": 1,
      "views": {
       "grid_default": {
        "col": 8,
        "height": 4,
        "hidden": true,
        "row": 26,
        "width": 4
       },
       "report_default": {}
      }
     }
    }
   },
   "source": [
    "## Launch ORE"
   ]
  },
  {
   "cell_type": "markdown",
   "metadata": {},
   "source": [
    "This launcher allows you to kick off a job in ORE. You have to supply this cell with the location of your `ore` executable and the `xml` file that configures the job you want to run. You can do this either by specifying the default paths below in the code or by pasting them in the text fields after you run the cell below. Click on the `Launch` button to start the job. Depending on how complex this calculation is, it might take some time until it ran through. If you prefer do do this in the console, you can alternatively run it there and just specify the output file later."
   ]
  },
  {
   "cell_type": "code",
   "execution_count": null,
   "metadata": {
    "collapsed": true
   },
   "outputs": [],
   "source": [
    "# default paths (either change here or use the interface below)\n",
    "ore_exe_path = 'D:\\\\cppdev\\\\openxva\\\\App\\\\bin\\\\x64\\\\Release\\\\ore.exe'\n",
    "ore_xml = 'D:\\\\cppdev\\\\openxva\\\\Examples\\\\Example_3\\\\Input\\\\ore.xml'"
   ]
  },
  {
   "cell_type": "code",
   "execution_count": null,
   "metadata": {
    "collapsed": false,
    "extensions": {
     "jupyter_dashboards": {
      "version": 1,
      "views": {
       "grid_default": {
        "col": 0,
        "height": 5,
        "hidden": false,
        "row": 0,
        "width": 12
       },
       "report_default": {}
      }
     }
    }
   },
   "outputs": [],
   "source": [
    "from ipywidgets import Text, Button\n",
    "from IPython.display import display\n",
    "import subprocess\n",
    "import os\n",
    "\n",
    "ore_path_selector = Text(description='ORE Path:', value=ore_exe_path, width=200)\n",
    "xml_selector = Text(description='XML File:', value=ore_xml, width=200)\n",
    "launch_button = Button(description='Launch')\n",
    "\n",
    "def launch_ore(b):\n",
    "    cwd = os.getcwd() # save directory of the jupyter notebook\n",
    "    config_path = os.path.dirname(os.path.dirname(xml_selector.value))\n",
    "    os.chdir(config_path) # navigate to ore config folder\n",
    "    command = [ore_path_selector.value, os.path.join(os.path.join(config_path, 'Input'),'ore.xml')]\n",
    "    print(\"Starting ORE run... please wait...\")\n",
    "    p = subprocess.Popen(command,\n",
    "        stdin=subprocess.PIPE,\n",
    "        stdout=subprocess.PIPE,\n",
    "        stderr=subprocess.PIPE)\n",
    "    stdout, stderr = p.communicate()\n",
    "    os.chdir(cwd) # go back to jupyter notebook\n",
    "    print(\"ORE run successful!\")\n",
    "    global npv_cube_filename\n",
    "    npv_cube_filename = os.path.join(os.path.join(config_path, 'Output'),'rawcube.csv')\n",
    "\n",
    "launch_button.on_click(launch_ore)\n",
    "display(ore_path_selector)\n",
    "display(xml_selector)\n",
    "display(launch_button)"
   ]
  },
  {
   "cell_type": "markdown",
   "metadata": {
    "extensions": {
     "jupyter_dashboards": {
      "version": 1,
      "views": {
       "grid_default": {
        "col": 8,
        "height": 4,
        "hidden": true,
        "row": 26,
        "width": 4
       },
       "report_default": {}
      }
     }
    }
   },
   "source": [
    "## Select Netting Sets and Trades"
   ]
  },
  {
   "cell_type": "markdown",
   "metadata": {},
   "source": [
    "This section allows you to select the netting sets and trades you want to analyze. Select the cube file by either changing the default path in the cell below or by pasting its location in the menu after you executed the cells of this section. Click on `Load` to load in the data. You can select only one netting set at a time, but arbitrary few or many trades in it."
   ]
  },
  {
   "cell_type": "code",
   "execution_count": null,
   "metadata": {
    "collapsed": true
   },
   "outputs": [],
   "source": [
    "npv_cube_filename = 'D:\\\\cppdev\\\\openxva\\\\Examples\\\\Example_2\\\\Output\\\\rawcube.csv'"
   ]
  },
  {
   "cell_type": "code",
   "execution_count": null,
   "metadata": {
    "collapsed": false,
    "extensions": {
     "jupyter_dashboards": {
      "version": 1,
      "views": {
       "grid_default": {
        "col": 0,
        "height": 7,
        "hidden": false,
        "row": 5,
        "width": 8
       },
       "report_default": {}
      }
     }
    }
   },
   "outputs": [],
   "source": [
    "import pandas as pd       \n",
    "from ipywidgets import Select, SelectMultiple, HBox\n",
    "\n",
    "current_netting_sets = [0]\n",
    "def set_current_netting_sets(netting_sets):\n",
    "    current_netting_sets = netting_sets['new']\n",
    "\n",
    "current_trades = [0]\n",
    "def set_current_trades(trades):\n",
    "    current_trades = trades['new']\n",
    "\n",
    "netting_set_selector = Select(description='Netting Sets:')\n",
    "trades_selector = SelectMultiple(description='Trades:')\n",
    "netting_set_selector.observe(set_current_netting_sets, names='value')\n",
    "trades_selector.observe(set_current_trades, names='value')\n",
    "def load_cube_file(b):\n",
    "    csv_file = npv_file_selector.value\n",
    "    global df\n",
    "    df = pd.read_csv(csv_file)\n",
    "    df.columns = ['Id', 'NettingSet', 'DateIndex' , 'Date', 'Sample', 'Value']\n",
    "    netting_set_selector.options = list(df.NettingSet.unique())\n",
    "    trades_selector.options = list(df.Id.unique())\n",
    "    trades_selector.value = trades_selector.options\n",
    "\n",
    "\n",
    "npv_file_selector = Text(description='Cube File:', value=npv_cube_filename, width=200)\n",
    "read_npv_button = Button(description='Load')\n",
    "read_npv_button.on_click(load_cube_file)\n",
    "\n",
    "load_cube_file(read_npv_button)\n",
    "\n",
    "display(HBox([npv_file_selector, read_npv_button]))\n",
    "display(HBox([netting_set_selector, trades_selector]))"
   ]
  },
  {
   "cell_type": "markdown",
   "metadata": {
    "extensions": {
     "jupyter_dashboards": {
      "version": 1,
      "views": {
       "grid_default": {
        "col": 4,
        "height": 4,
        "hidden": true,
        "row": 0,
        "width": 4
       },
       "report_default": {}
      }
     }
    }
   },
   "source": [
    "## Plot Exposure Density Surface (matplotlib)"
   ]
  },
  {
   "cell_type": "markdown",
   "metadata": {
    "collapsed": true,
    "extensions": {
     "jupyter_dashboards": {
      "version": 1,
      "views": {
       "grid_default": {
        "col": 8,
        "height": 6,
        "hidden": false,
        "row": 5,
        "width": 4
       },
       "report_default": {}
      }
     }
    }
   },
   "source": [
    "We aggregate the npv values of the trades from the cube to a netting set level. For each date (x-axis) we estimate the density of the distribution of the values (y-axis) and plot the value of this density (z-axis) as a surface plot. Notice that the z-axis has no business meaning."
   ]
  },
  {
   "cell_type": "code",
   "execution_count": null,
   "metadata": {
    "collapsed": false,
    "extensions": {
     "jupyter_dashboards": {
      "version": 1,
      "views": {
       "grid_default": {
        "col": 0,
        "height": 19,
        "hidden": true,
        "row": 13,
        "width": 12
       },
       "report_default": {}
      }
     }
    }
   },
   "outputs": [],
   "source": [
    "import numpy as np\n",
    "\n",
    "from enum import Enum\n",
    "from ipywidgets import RadioButtons, FloatSlider\n",
    "\n",
    "%matplotlib notebook\n",
    "import matplotlib\n",
    "import matplotlib.pyplot as plt\n",
    "from mpl_toolkits.mplot3d import Axes3D\n",
    "from matplotlib import cm\n",
    "from matplotlib.font_manager import FontProperties\n",
    "\n",
    "from scipy.stats.kde import gaussian_kde\n",
    "from numpy.linalg.linalg import LinAlgError\n",
    "\n",
    "class ExposureTypes(Enum):\n",
    "    EE = 'EE'\n",
    "    EPE = 'EPE'\n",
    "    ENE = 'ENE'\n",
    "\n",
    "# sum values over selected trades in netting set\n",
    "df_surface_ee = df[(df.NettingSet == netting_set_selector.value) & df.Id.isin(trades_selector.value)][['Id', 'Value', 'Sample', 'DateIndex']].groupby(['DateIndex','Sample']).sum().reset_index()\n",
    "# truncate for EPE or ENE\n",
    "df_surface_epe = df_surface_ee.copy()\n",
    "df_surface_epe.loc[df_surface_epe['Value']<0,'Value']=0\n",
    "df_surface_ene = df_surface_ee.copy()\n",
    "df_surface_ene.loc[df_surface_ene['Value']>0,'Value']=0\n",
    "df_data = {ExposureTypes.EE:df_surface_ee,\n",
    "          ExposureTypes.EPE:df_surface_epe,\n",
    "          ExposureTypes.ENE:df_surface_ene,}\n",
    "\n",
    "fig_surface = plt.figure()\n",
    "fig_surface.canvas.set_window_title('Density Surface')\n",
    "def plot_exposure_surface(current_exposure):\n",
    "    global df_data\n",
    "    df_surface = df_data[ExposureTypes[current_exposure]]\n",
    "     # for each date index, calculate densities of distribution of values\n",
    "    grid_size = 50\n",
    "    global npv_min\n",
    "    global npv_max\n",
    "    npv_min = df_surface.Value.min()\n",
    "    npv_max = df_surface.Value.max()\n",
    "    global dist_space\n",
    "    dist_space = np.linspace(npv_min, npv_max, grid_size)\n",
    "    global num_dates\n",
    "    num_dates = len(df_surface.DateIndex.unique())\n",
    "    global density_values\n",
    "    density_values = np.zeros((num_dates, grid_size))\n",
    "    for k in range(num_dates):\n",
    "        row = df_surface.loc[df_surface['DateIndex']==k, 'Value'].values\n",
    "        try:\n",
    "            density = gaussian_kde(row)\n",
    "            density_values[k] = density(dist_space)\n",
    "        except:\n",
    "            density_values[k] = np.zeros(grid_size)\n",
    "    global density_max\n",
    "    density_max = np.max(density_values)\n",
    "    \n",
    "    # plot result\n",
    "    global fig_surface\n",
    "    fig_surface.clear()\n",
    "    ax_surface = fig_surface.add_subplot(111, projection='3d')\n",
    "    date_step = 5\n",
    "    dates = pd.to_datetime(df['Date']).unique()\n",
    "    dates = dates - dates.min()\n",
    "    years = dates.astype('timedelta64[Y]') / np.timedelta64(1, 'Y') \n",
    "    ax_surface.set_xticks(years)\n",
    "    ax_surface.set_xticklabels(years)\n",
    "    ax_surface.get_xaxis().set_major_formatter(matplotlib.ticker.FuncFormatter(lambda x, p: \"{:,.1f}\".format(x)))\n",
    "    ax_surface.set_xlabel('years')\n",
    "    ax_surface.get_yaxis().set_major_formatter(matplotlib.ticker.FuncFormatter(lambda x, p: \"{:,.1f}\".format(x/1000000)))\n",
    "    ax_surface.set_ylabel(exposure_selector.value+\" [mn]\")\n",
    "    X, Y = np.meshgrid(years, dist_space)\n",
    "    ax_surface.plot_trisurf(X.flatten(), Y.flatten(), density_values.T.flatten(), cmap=cm.jet, linewidth=0)\n",
    "    plt.show()\n",
    "\n",
    "def change_exposure_type(rb):\n",
    "    plot_exposure_surface(rb['new'])\n",
    "\n",
    "exposure_selector = RadioButtons(description='Exposure Type:', options=[name for name,member in ExposureTypes.__members__.items()])\n",
    "exposure_selector.observe(change_exposure_type, names='value')\n",
    "plot_exposure_surface(exposure_selector.value)\n",
    "display(exposure_selector)"
   ]
  },
  {
   "cell_type": "markdown",
   "metadata": {},
   "source": [
    "## Plot Exposure Density Surface (pythreejs)"
   ]
  },
  {
   "cell_type": "markdown",
   "metadata": {},
   "source": [
    "This requires `pythreejs`."
   ]
  },
  {
   "cell_type": "code",
   "execution_count": null,
   "metadata": {
    "collapsed": false,
    "extensions": {
     "jupyter_dashboards": {
      "version": 1,
      "views": {
       "grid_default": {
        "col": 0,
        "height": 20,
        "hidden": true,
        "row": 54,
        "width": 7
       },
       "report_default": {}
      }
     }
    }
   },
   "outputs": [],
   "source": [
    "import pythreejs as p3js\n",
    "from ipywidgets import HTML\n",
    "from traitlets import link\n",
    "\n",
    "nx, ny = (43, 50)\n",
    "xmax=1\n",
    "x = np.linspace(-xmax, xmax, nx)\n",
    "y = np.linspace(-xmax, xmax, ny)\n",
    "xx, yy = np.meshgrid(x, y)\n",
    "z = xx ** 2 - yy ** 2\n",
    "\n",
    "print(x.shape)\n",
    "print(y.shape)\n",
    "print(z.shape)\n",
    "\n",
    "print(density_values.shape)\n",
    "\n",
    "print(z)\n",
    "print(density_values)\n",
    "nx, ny = density_values.shape\n",
    "#print(nx, ny)\n",
    "z=density_values[::-1]*1000000\n",
    "#xmax = density_max\n",
    "xmax = np.max(z.flat)\n",
    "print(xmax)\n",
    "xmax=1\n",
    "\n",
    "surf_g = p3js.SurfaceGeometry(z=list(z[::-1].flat), \n",
    "                         width=2 * xmax,\n",
    "                         height=2 * 0.00001,\n",
    "                         width_segments=nx - 1,\n",
    "                         height_segments=(ny - 1)\n",
    "                        )\n",
    "\n",
    "surf = p3js.Mesh(geometry=surf_g, material=p3js.LambertMaterial(map=p3js.height_texture(z[::-1], 'YlGnBu_r')))\n",
    "surfgrid = p3js.SurfaceGrid(geometry=surf_g, material=p3js.LineBasicMaterial(color='black'))\n",
    "hover_point = p3js.Mesh(geometry=p3js.SphereGeometry(radius=0.05), material=p3js.LambertMaterial(color='hotpink'))\n",
    "scene = p3js.Scene(children=[surf, surfgrid, hover_point, p3js.AmbientLight(color='#777777')])\n",
    "c = p3js.PerspectiveCamera(position=[0, 3, 3], up=[0, 0, 1], \n",
    "                      children=[p3js.DirectionalLight(color='white', position=[3, 5, 1], intensity=0.6)])\n",
    "click_picker = p3js.Picker(root=surf, event='dblclick')\n",
    "hover_picker = p3js.Picker(root=surf, event='mousemove')\n",
    "renderer = p3js.Renderer(camera=c, scene = scene, controls=[p3js.OrbitControls(controlling=c), click_picker, hover_picker])\n",
    "\n",
    "def f(change):\n",
    "    value = change['new']\n",
    "    print('Clicked on %s' % value)\n",
    "    point = Mesh(geometry=SphereGeometry(radius=0.05), \n",
    "                 material=LambertMaterial(color='red'),\n",
    "                 position=value)\n",
    "    scene.children = list(scene.children) + [point]\n",
    "\n",
    "click_picker.observe(f, names=['point'])\n",
    "\n",
    "link((hover_point, 'position'), (hover_picker, 'point'))\n",
    "\n",
    "h = HTML()\n",
    "def g(change):\n",
    "    h.value = 'Pink point at (%.3f, %.3f, %.3f)' % tuple(change['new'])\n",
    "g({'new': hover_point.position})\n",
    "hover_picker.observe(g, names=['point'])\n",
    "display(h)\n",
    "display(renderer)"
   ]
  },
  {
   "cell_type": "markdown",
   "metadata": {
    "extensions": {
     "jupyter_dashboards": {
      "version": 1,
      "views": {
       "grid_default": {
        "col": 4,
        "height": 4,
        "hidden": true,
        "row": 26,
        "width": 4
       },
       "report_default": {}
      }
     }
    }
   },
   "source": [
    "## Time Slider"
   ]
  },
  {
   "cell_type": "code",
   "execution_count": null,
   "metadata": {
    "collapsed": false,
    "extensions": {
     "jupyter_dashboards": {
      "version": 1,
      "views": {
       "grid_default": {
        "col": 0,
        "height": 22,
        "hidden": false,
        "row": 31,
        "width": 12
       },
       "report_default": {}
      }
     }
    }
   },
   "outputs": [],
   "source": [
    "from ipywidgets import IntSlider\n",
    "\n",
    "fig_surface = plt.figure()\n",
    "ax_time_slider = fig_surface.add_subplot(111)\n",
    "fig_surface.canvas.set_window_title('Time Slider')\n",
    "\n",
    "def plot_time_slider(change):\n",
    "    date = change['new']\n",
    "    plt.cla()\n",
    "    ax_time_slider.plot(dist_space, density_values[date], color='k', label=exposure_selector.value)\n",
    "    ax_time_slider.set_xlim(npv_min, npv_max)\n",
    "    ax_time_slider.set_ylim(0, density_max)\n",
    "    \n",
    "time_slider = IntSlider(min=0, max=num_dates-1, value=0, description='DateIndex:')\n",
    "time_slider.observe(plot_time_slider, names='value')\n",
    "display(time_slider)\n"
   ]
  },
  {
   "cell_type": "markdown",
   "metadata": {
    "extensions": {
     "jupyter_dashboards": {
      "version": 1,
      "views": {
       "grid_default": {
        "col": 8,
        "height": 4,
        "hidden": true,
        "row": 26,
        "width": 4
       },
       "report_default": {}
      }
     }
    }
   },
   "source": [
    "## Exposure Statistics"
   ]
  },
  {
   "cell_type": "code",
   "execution_count": null,
   "metadata": {
    "collapsed": false,
    "extensions": {
     "jupyter_dashboards": {
      "version": 1,
      "views": {
       "grid_default": {
        "col": 0,
        "height": 19,
        "hidden": true,
        "row": 35,
        "width": 12
       },
       "report_default": {}
      }
     }
    }
   },
   "outputs": [],
   "source": [
    "df_stats = df[(df.NettingSet == netting_set_selector.value) & df.Id.isin(trades_selector.value)][['Id', 'Value', 'Sample', 'DateIndex']].groupby(['DateIndex','Sample']).sum().reset_index()\n",
    "df_epe = df_stats.copy()\n",
    "df_ene = df_stats.copy()\n",
    "\n",
    "df_epe.loc[df_epe['Value']<0,'Value']=0\n",
    "df_ene.loc[df_ene['Value']>0,'Value']=0\n",
    "\n",
    "ee = df_stats[['DateIndex', 'Value']].groupby('DateIndex').mean().values[:,0]\n",
    "epe = df_epe[['DateIndex', 'Value']].groupby('DateIndex').mean().values[:,0]\n",
    "ene = df_ene[['DateIndex', 'Value']].groupby('DateIndex').mean().values[:,0]\n",
    "pfe = df_stats[['DateIndex', 'Value']].groupby('DateIndex').quantile(0.95).values[:,0]"
   ]
  },
  {
   "cell_type": "code",
   "execution_count": null,
   "metadata": {
    "collapsed": true,
    "extensions": {
     "jupyter_dashboards": {
      "version": 1,
      "views": {
       "grid_default": {
        "hidden": true
       },
       "report_default": {}
      }
     }
    }
   },
   "outputs": [],
   "source": [
    "percentile_selector = FloatSlider(min=90, max=100, value=95, description='PFE Percentile:')"
   ]
  },
  {
   "cell_type": "code",
   "execution_count": null,
   "metadata": {
    "collapsed": false,
    "extensions": {
     "jupyter_dashboards": {
      "version": 1,
      "views": {
       "grid_default": {
        "col": 0,
        "height": 19,
        "hidden": true,
        "row": 54,
        "width": 7
       },
       "report_default": {}
      }
     }
    }
   },
   "outputs": [],
   "source": [
    "fig_statistics = plt.figure()\n",
    "ax_statistics = fig_statistics.add_subplot(111)\n",
    "ax_statistics.plot(range(num_dates), ee, label=ExposureTypes.EE.value)\n",
    "ax_statistics.plot(range(num_dates), epe, label=ExposureTypes.EPE.value)\n",
    "ax_statistics.plot(range(num_dates), ene, label=ExposureTypes.ENE.value)\n",
    "ax_statistics.plot(range(num_dates), pfe, label=ExposureTypes.PFE.value)\n",
    "ax_statistics.get_yaxis().set_major_formatter(matplotlib.ticker.FuncFormatter(lambda x, p: format(int(x), ',')))\n",
    "date_step = 2\n",
    "ax_statistics.set_xticks(np.arange(0, num_dates, date_step))\n",
    "#x_statistics.set_xticklabels(npv.dates[0::date_step], rotation=90)\n",
    "fontP = FontProperties() # set legend outside plot\n",
    "fontP.set_size('small')\n",
    "ax_statistics.legend(loc='upper right', shadow=True, prop=fontP)\n",
    "plt.show()"
   ]
  },
  {
   "cell_type": "code",
   "execution_count": null,
   "metadata": {
    "collapsed": false,
    "extensions": {
     "jupyter_dashboards": {
      "version": 1,
      "views": {
       "grid_default": {
        "col": null,
        "height": 15,
        "hidden": false,
        "row": 53,
        "width": null
       },
       "report_default": {}
      }
     }
    }
   },
   "outputs": [],
   "source": [
    "import bqplot as bq\n",
    "xs = bq.LinearScale()\n",
    "ys = bq.LinearScale()\n",
    "x = range(num_dates)\n",
    "y = np.vstack((ee,epe,ene,pfe))\n",
    "\n",
    "line = bq.Lines(x=x, y=y, scales={'x': xs, 'y': ys}, display_legend=True, labels=['EE','EPE', 'ENE', 'PFE'])\n",
    "xax = bq.Axis(scale=xs, label='time', grid_lines='solid')\n",
    "yax = bq.Axis(scale=ys, orientation='vertical', tick_format='0.2f', label='exposure', grid_lines='solid')\n",
    "\n",
    "fig = bq.Figure(marks=[line], axes=[xax, yax], animation_duration=1000)\n",
    "display(fig)"
   ]
  },
  {
   "cell_type": "code",
   "execution_count": null,
   "metadata": {
    "collapsed": true,
    "extensions": {
     "jupyter_dashboards": {
      "version": 1,
      "views": {
       "grid_default": {
        "hidden": true
       },
       "report_default": {}
      }
     }
    }
   },
   "outputs": [],
   "source": []
  }
 ],
 "metadata": {
  "extensions": {
   "jupyter_dashboards": {
    "activeView": "grid_default",
    "version": 1,
    "views": {
     "grid_default": {
      "cellMargin": 10,
      "defaultCellHeight": 20,
      "maxColumns": 12,
      "name": "grid",
      "type": "grid"
     },
     "report_default": {
      "name": "report",
      "type": "report"
     }
    }
   }
  },
  "kernelspec": {
   "display_name": "Python 3",
   "language": "python",
   "name": "python3"
  },
  "language_info": {
   "codemirror_mode": {
    "name": "ipython",
    "version": 3
   },
   "file_extension": ".py",
   "mimetype": "text/x-python",
   "name": "python",
   "nbconvert_exporter": "python",
   "pygments_lexer": "ipython3",
   "version": "3.5.2"
  },
  "widgets": {
   "state": {
    "0a32b9296f4345a7be162153a4c0f0db": {
     "views": [
      {
       "cell_index": 10
      }
     ]
    },
    "1253528a09434efcafb2b9137ec2bd51": {
     "views": [
      {
       "cell_index": 7
      }
     ]
    },
    "1e9f66485af14793bf3c3b455ce7272c": {
     "views": [
      {
       "cell_index": 17
      }
     ]
    },
    "267163e1dde347288d63688371a48c95": {
     "views": [
      {
       "cell_index": 5
      }
     ]
    },
    "29bfa2993c24443cbba6ea300e2e6870": {
     "views": [
      {
       "cell_index": 9
      }
     ]
    },
    "3101d12d12f948b8aeb0c88761334963": {
     "views": [
      {
       "cell_index": 7
      }
     ]
    },
    "33a7c8c95f7c456e935d4a0a56128d48": {
     "views": [
      {
       "cell_index": 5
      }
     ]
    },
    "34b21bdc090545b6b64c6cd91613ef99": {
     "views": [
      {
       "cell_index": 4
      }
     ]
    },
    "3e8aaab42a014b32af8fc6708fedb91f": {
     "views": [
      {
       "cell_index": 7
      }
     ]
    },
    "40578afcf21446308e7daeb3261df7ff": {
     "views": [
      {
       "cell_index": 17
      }
     ]
    },
    "45d351ae6faf422ebcad95236b033d83": {
     "views": [
      {
       "cell_index": 7
      }
     ]
    },
    "4c6e6eb8fbc049c1bf5f9200ae9ad4df": {
     "views": [
      {
       "cell_index": 5
      }
     ]
    },
    "4f3176e358584cac9d2f2687f37ebb4b": {
     "views": [
      {
       "cell_index": 10
      }
     ]
    },
    "53e402cfe17548199b7dbe50e7534d22": {
     "views": [
      {
       "cell_index": 12
      }
     ]
    },
    "5be5c0b60dc740008346452288c7ec4a": {
     "views": [
      {
       "cell_index": 7
      }
     ]
    },
    "68928b46d48c4bab9b80b00b7998b157": {
     "views": [
      {
       "cell_index": 7
      }
     ]
    },
    "6b97d64ec11b40938131a627678f5cd7": {
     "views": [
      {
       "cell_index": 5
      }
     ]
    },
    "708d24cfc49546de8b866989b88580bc": {
     "views": [
      {
       "cell_index": 5
      }
     ]
    },
    "76ce4123407843dd9a34bc8a32000fe8": {
     "views": [
      {
       "cell_index": 3
      }
     ]
    },
    "78d1423e70c74f5ab07a50bc0373b6f0": {
     "views": [
      {
       "cell_index": 5
      }
     ]
    },
    "80894b4f056e4ba198c679de59cfead9": {
     "views": [
      {
       "cell_index": 4
      }
     ]
    },
    "8b213a4085fe4fe188f97b6ea0cc4bf0": {
     "views": [
      {
       "cell_index": 9
      }
     ]
    },
    "8ccaf1d215bf48999aba6e834b8ea683": {
     "views": [
      {
       "cell_index": 7
      }
     ]
    },
    "8ceec8de6a334ca5a2aa74b96a93893f": {
     "views": [
      {
       "cell_index": 3
      }
     ]
    },
    "8f42a29d30dd442288708a832acf1365": {
     "views": [
      {
       "cell_index": 4
      }
     ]
    },
    "a48c4fe0d7de454ebed608a7de1d6ba8": {
     "views": [
      {
       "cell_index": 5
      }
     ]
    },
    "abab11e3f5dc4d7c9798c16504851003": {
     "views": [
      {
       "cell_index": 5
      }
     ]
    },
    "b102e31e3db94dce8f91b2da298f0466": {
     "views": [
      {
       "cell_index": 9
      }
     ]
    },
    "b15015dc491c40c99a5f413e8a0782a6": {
     "views": [
      {
       "cell_index": 11
      }
     ]
    },
    "b70cea131b90458aadeab2e668a631c6": {
     "views": [
      {
       "cell_index": 4
      }
     ]
    },
    "be16fce6c9e4497e8efcacad78b52436": {
     "views": [
      {
       "cell_index": 9
      }
     ]
    },
    "c6b28fd58b134adda25ec327c3df3d12": {
     "views": [
      {
       "cell_index": 7
      }
     ]
    },
    "c6d9d5a50edf4651a695ede22c1b9951": {
     "views": [
      {
       "cell_index": 7
      }
     ]
    },
    "c7aaf2707b264b52872a58a6c57e78a7": {
     "views": [
      {
       "cell_index": 5
      }
     ]
    },
    "ca4534101baf4047991146791d557fae": {
     "views": [
      {
       "cell_index": 5
      }
     ]
    },
    "d5c00ca47ea540ef8bc2dff008529a26": {
     "views": [
      {
       "cell_index": 5
      }
     ]
    },
    "e00623191701452eb95a7074ecf2d9a4": {
     "views": [
      {
       "cell_index": 7
      }
     ]
    },
    "e4d6dc0037814ca08a5fcbe6ea207912": {
     "views": [
      {
       "cell_index": 7
      }
     ]
    },
    "ea0f49421c1d4fd9bda1404600e3b2c1": {
     "views": [
      {
       "cell_index": 8
      }
     ]
    },
    "f36184bdfad44e52b5a8e58176294200": {
     "views": [
      {
       "cell_index": 10
      }
     ]
    }
   },
   "version": "1.2.0"
  }
 },
 "nbformat": 4,
 "nbformat_minor": 0
}
