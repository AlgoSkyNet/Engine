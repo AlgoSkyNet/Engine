{
 "cells": [
  {
   "cell_type": "code",
   "execution_count": null,
   "metadata": {
    "collapsed": false,
    "extensions": {
     "jupyter_dashboards": {
      "version": 1,
      "views": {
       "grid_default": {
        "col": 0,
        "height": 4,
        "hidden": false,
        "row": 0,
        "width": 12
       },
       "report_default": {}
      }
     }
    }
   },
   "outputs": [],
   "source": [
    "%matplotlib notebook\n",
    "from risk_dashboard import NpvCube\n",
    "from ipywidgets import SelectMultiple\n",
    "from IPython.display import display\n",
    "\n",
    "import matplotlib\n",
    "import matplotlib.pyplot as plt\n",
    "from mpl_toolkits.mplot3d import Axes3D\n",
    "import numpy as np\n",
    "from matplotlib import cm\n",
    "from enum import Enum\n",
    "from matplotlib.font_manager import FontProperties\n",
    "\n",
    "csv_file = 'cube.csv'\n",
    "npv = NpvCube(csv_file)\n",
    "\n",
    "current_trades = [0]\n",
    "def set_current_trades(self, trades):\n",
    "    current_trades = trades['new']\n",
    "trades_selector = SelectMultiple(options=npv.tradedict, description='TradeIDs:')\n",
    "trades_selector.observe(set_current_trades, names='value')\n",
    "display(trades_selector)"
   ]
  },
  {
   "cell_type": "code",
   "execution_count": null,
   "metadata": {
    "collapsed": false,
    "extensions": {
     "jupyter_dashboards": {
      "version": 1,
      "views": {
       "grid_default": {
        "col": 0,
        "height": 16,
        "hidden": false,
        "row": 4,
        "width": 6
       },
       "report_default": {}
      }
     }
    }
   },
   "outputs": [],
   "source": [
    "class ExposureTypes(Enum):\n",
    "    npv = 'NPV'\n",
    "    npvp = 'NPV+'\n",
    "    npvm = 'NPV-'\n",
    "    \n",
    "current_exposure=ExposureTypes.npv\n",
    "\n",
    "npv.calc_density_data(current_trades, current_exposure)\n",
    "fig_surface = plt.figure()\n",
    "ax_surface =fig_surface.add_subplot(111, projection='3d')\n",
    "\n",
    "# configure x-axis to be labeld with dates\n",
    "date_step = 5\n",
    "ax_surface.set_xticks(np.arange(0, len(npv.dates), date_step))\n",
    "ax_surface.set_xticklabels(npv.dates[0::date_step])\n",
    "ax_surface.set_xlabel('Dates')\n",
    "# set thousands separator for y-axis\n",
    "ax_surface.get_yaxis().set_major_formatter(matplotlib.ticker.FuncFormatter(\n",
    "    lambda x, p: format(int(x), ',')))\n",
    "\n",
    "ax_surface.set_ylabel(current_exposure.value)\n",
    "\n",
    "# estimate the probability density for each date\n",
    "# create X and Y data for plotting\n",
    "X, Y = np.meshgrid(np.arange(len(npv.dates)), npv.dist_space)\n",
    "# ax.plot_surface(X, Y, values.T, cmap=cm.jet)\n",
    "ax_surface.plot_trisurf(\n",
    "    X.flatten(),\n",
    "    Y.flatten(),\n",
    "    npv.density_values.T.flatten(),\n",
    "    cmap=cm.jet,\n",
    "    linewidth=0)\n",
    "plt.show()"
   ]
  },
  {
   "cell_type": "code",
   "execution_count": null,
   "metadata": {
    "collapsed": false,
    "extensions": {
     "jupyter_dashboards": {
      "version": 1,
      "views": {
       "grid_default": {
        "col": 6,
        "height": 17,
        "hidden": false,
        "row": 4,
        "width": 5
       },
       "report_default": {}
      }
     }
    }
   },
   "outputs": [],
   "source": [
    "npv.calc_exposure_statistics(current_trades)\n",
    "fig_statistics = plt.figure()\n",
    "ax_statistics = fig_statistics.add_subplot(111)\n",
    "ax_statistics.plot(range(len(npv.dates)), npv.exposure_statistics['npv'], label='NPV')\n",
    "ax_statistics.plot(range(len(npv.dates)), npv.exposure_statistics['npv+'], label='NPV+')\n",
    "ax_statistics.plot(range(len(npv.dates)), npv.exposure_statistics['npv-'], label='NPV-')\n",
    "ax_statistics.plot(range(len(npv.dates)), npv.exposure_statistics['perc'], label='perc')\n",
    "ax_statistics.get_yaxis().set_major_formatter(matplotlib.ticker.FuncFormatter(lambda x, p: format(int(x), ',')))\n",
    "date_step = 2\n",
    "ax_statistics.set_xticks(np.arange(0, len(npv.dates), date_step))\n",
    "ax_statistics.set_xticklabels(npv.dates[0::date_step], rotation=90)\n",
    "fontP = FontProperties() # set legend outside plot\n",
    "fontP.set_size('small')\n",
    "ax_statistics.legend(loc='upper right', shadow=True, prop=fontP)\n",
    "plt.show()"
   ]
  },
  {
   "cell_type": "code",
   "execution_count": null,
   "metadata": {
    "collapsed": true,
    "extensions": {
     "jupyter_dashboards": {
      "version": 1,
      "views": {
       "grid_default": {
        "col": 0,
        "height": 4,
        "hidden": true,
        "row": 17,
        "width": 12
       },
       "report_default": {}
      }
     }
    }
   },
   "outputs": [],
   "source": []
  },
  {
   "cell_type": "code",
   "execution_count": null,
   "metadata": {
    "collapsed": true,
    "extensions": {
     "jupyter_dashboards": {
      "version": 1,
      "views": {
       "grid_default": {
        "hidden": true
       },
       "report_default": {}
      }
     }
    }
   },
   "outputs": [],
   "source": []
  }
 ],
 "metadata": {
  "extensions": {
   "jupyter_dashboards": {
    "activeView": "grid_default",
    "version": 1,
    "views": {
     "grid_default": {
      "cellMargin": 10,
      "defaultCellHeight": 20,
      "maxColumns": 12,
      "name": "grid",
      "type": "grid"
     },
     "report_default": {
      "name": "report",
      "type": "report"
     }
    }
   }
  },
  "kernelspec": {
   "display_name": "Python 3",
   "language": "python",
   "name": "python3"
  },
  "language_info": {
   "codemirror_mode": {
    "name": "ipython",
    "version": 3
   },
   "file_extension": ".py",
   "mimetype": "text/x-python",
   "name": "python",
   "nbconvert_exporter": "python",
   "pygments_lexer": "ipython3",
   "version": "3.5.2"
  },
  "widgets": {
   "state": {
    "f8b30f7729524e38b5971e27208492a7": {
     "views": [
      {
       "cell_index": 0
      }
     ]
    }
   },
   "version": "1.2.0"
  }
 },
 "nbformat": 4,
 "nbformat_minor": 0
}
